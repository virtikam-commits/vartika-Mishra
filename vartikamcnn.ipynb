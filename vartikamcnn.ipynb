{
  "cells": [
    {
      "cell_type": "markdown",
      "metadata": {
        "id": "view-in-github",
        "colab_type": "text"
      },
      "source": [
        "<a href=\"https://colab.research.google.com/github/virtikam-commits/vartika-Mishra/blob/main/vartikamcnn.ipynb\" target=\"_parent\"><img src=\"https://colab.research.google.com/assets/colab-badge.svg\" alt=\"Open In Colab\"/></a>"
      ]
    },
    {
      "cell_type": "code",
      "execution_count": null,
      "metadata": {
        "colab": {
          "base_uri": "https://localhost:8080/"
        },
        "id": "FjFbgM8tx1LK",
        "outputId": "c954ff48-2705-416b-ef2e-76034c02e19c"
      },
      "outputs": [
        {
          "output_type": "stream",
          "name": "stdout",
          "text": [
            "Requirement already satisfied: gensim in /usr/local/lib/python3.12/dist-packages (4.3.3)\n",
            "Requirement already satisfied: numpy<2.0,>=1.18.5 in /usr/local/lib/python3.12/dist-packages (from gensim) (1.26.4)\n",
            "Requirement already satisfied: scipy<1.14.0,>=1.7.0 in /usr/local/lib/python3.12/dist-packages (from gensim) (1.13.1)\n",
            "Requirement already satisfied: smart-open>=1.8.1 in /usr/local/lib/python3.12/dist-packages (from gensim) (7.3.1)\n",
            "Requirement already satisfied: wrapt in /usr/local/lib/python3.12/dist-packages (from smart-open>=1.8.1->gensim) (1.17.3)\n"
          ]
        }
      ],
      "source": [
        "pip install gensim"
      ]
    },
    {
      "cell_type": "code",
      "execution_count": null,
      "metadata": {
        "colab": {
          "base_uri": "https://localhost:8080/"
        },
        "id": "CZfNQDtUx1LQ",
        "outputId": "ffdf2b7e-e9bb-4944-cf4e-7b0fde2dae47"
      },
      "outputs": [
        {
          "output_type": "stream",
          "name": "stdout",
          "text": [
            "Requirement already satisfied: nltk in /usr/local/lib/python3.12/dist-packages (3.9.1)\n",
            "Requirement already satisfied: click in /usr/local/lib/python3.12/dist-packages (from nltk) (8.2.1)\n",
            "Requirement already satisfied: joblib in /usr/local/lib/python3.12/dist-packages (from nltk) (1.5.2)\n",
            "Requirement already satisfied: regex>=2021.8.3 in /usr/local/lib/python3.12/dist-packages (from nltk) (2024.11.6)\n",
            "Requirement already satisfied: tqdm in /usr/local/lib/python3.12/dist-packages (from nltk) (4.67.1)\n"
          ]
        }
      ],
      "source": [
        "pip install nltk"
      ]
    },
    {
      "cell_type": "code",
      "execution_count": null,
      "metadata": {
        "colab": {
          "base_uri": "https://localhost:8080/"
        },
        "id": "DtsQYmtox1LU",
        "outputId": "6562ae4a-343f-4587-8ec8-b89ad118a9ee"
      },
      "outputs": [
        {
          "output_type": "stream",
          "name": "stdout",
          "text": [
            "Requirement already satisfied: pip in /usr/local/lib/python3.12/dist-packages (24.1.2)\n",
            "Collecting pip\n",
            "  Downloading pip-25.2-py3-none-any.whl.metadata (4.7 kB)\n",
            "Downloading pip-25.2-py3-none-any.whl (1.8 MB)\n",
            "\u001b[2K   \u001b[90m━━━━━━━━━━━━━━━━━━━━━━━━━━━━━━━━━━━━━━━━\u001b[0m \u001b[32m1.8/1.8 MB\u001b[0m \u001b[31m51.9 MB/s\u001b[0m eta \u001b[36m0:00:00\u001b[0m\n",
            "\u001b[?25hInstalling collected packages: pip\n",
            "  Attempting uninstall: pip\n",
            "    Found existing installation: pip 24.1.2\n",
            "    Uninstalling pip-24.1.2:\n",
            "      Successfully uninstalled pip-24.1.2\n",
            "Successfully installed pip-25.2\n"
          ]
        }
      ],
      "source": [
        "pip install --upgrade pip"
      ]
    },
    {
      "cell_type": "code",
      "source": [
        "pip install svgling"
      ],
      "metadata": {
        "colab": {
          "base_uri": "https://localhost:8080/"
        },
        "id": "A8etBGu4AmUa",
        "outputId": "eb35d548-fef0-47a5-c811-20a21643c81f"
      },
      "execution_count": null,
      "outputs": [
        {
          "output_type": "stream",
          "name": "stdout",
          "text": [
            "Collecting svgling\n",
            "  Downloading svgling-0.5.0-py3-none-any.whl.metadata (7.4 kB)\n",
            "Collecting svgwrite (from svgling)\n",
            "  Downloading svgwrite-1.4.3-py3-none-any.whl.metadata (8.8 kB)\n",
            "Downloading svgling-0.5.0-py3-none-any.whl (31 kB)\n",
            "Downloading svgwrite-1.4.3-py3-none-any.whl (67 kB)\n",
            "Installing collected packages: svgwrite, svgling\n",
            "\u001b[2K   \u001b[90m━━━━━━━━━━━━━━━━━━━━━━━━━━━━━━━━━━━━━━━━\u001b[0m \u001b[32m2/2\u001b[0m [svgling]\n",
            "\u001b[1A\u001b[2KSuccessfully installed svgling-0.5.0 svgwrite-1.4.3\n"
          ]
        }
      ]
    },
    {
      "cell_type": "code",
      "execution_count": null,
      "metadata": {
        "id": "zPWgOL8ax1LW"
      },
      "outputs": [],
      "source": [
        "import nltk\n",
        "import gensim\n",
        "import string\n",
        "import matplotlib.pyplot as plt\n",
        "from gensim.models import Word2Vec\n",
        "from nltk.tokenize import word_tokenize\n",
        "from nltk.corpus import stopwords\n",
        "import numpy as np\n",
        "import re"
      ]
    },
    {
      "cell_type": "code",
      "execution_count": null,
      "metadata": {
        "colab": {
          "base_uri": "https://localhost:8080/"
        },
        "id": "EQWSCvKax1LY",
        "outputId": "39ac9783-4453-487f-b88b-fc5ad172cd53"
      },
      "outputs": [
        {
          "output_type": "stream",
          "name": "stderr",
          "text": [
            "[nltk_data] Downloading package punkt to /root/nltk_data...\n",
            "[nltk_data]   Unzipping tokenizers/punkt.zip.\n",
            "[nltk_data] Downloading package punkt_tab to /root/nltk_data...\n",
            "[nltk_data]   Unzipping tokenizers/punkt_tab.zip.\n",
            "[nltk_data] Downloading package words to /root/nltk_data...\n",
            "[nltk_data]   Unzipping corpora/words.zip.\n"
          ]
        },
        {
          "output_type": "execute_result",
          "data": {
            "text/plain": [
              "True"
            ]
          },
          "metadata": {},
          "execution_count": 6
        }
      ],
      "source": [
        "nltk.download('punkt')\n",
        "nltk.download('punkt_tab')\n",
        "nltk.download('words')"
      ]
    },
    {
      "cell_type": "code",
      "execution_count": null,
      "metadata": {
        "colab": {
          "base_uri": "https://localhost:8080/"
        },
        "id": "oKl_m44hx1La",
        "outputId": "2d78db20-ae2e-4b52-9527-b83aead9970a"
      },
      "outputs": [
        {
          "output_type": "stream",
          "name": "stderr",
          "text": [
            "[nltk_data] Downloading package stopwords to /root/nltk_data...\n",
            "[nltk_data]   Unzipping corpora/stopwords.zip.\n"
          ]
        },
        {
          "output_type": "execute_result",
          "data": {
            "text/plain": [
              "True"
            ]
          },
          "metadata": {},
          "execution_count": 7
        }
      ],
      "source": [
        "nltk.download(\"stopwords\")"
      ]
    },
    {
      "cell_type": "code",
      "execution_count": null,
      "metadata": {
        "id": "3ULmFapqx1Lb"
      },
      "outputs": [],
      "source": [
        "corpus =  [\n",
        "    \"My name is Vartika Mishra \",\n",
        "    \"My father's name is mr.Sushil Mishra \",\n",
        "    \"I come from Maharajaganj district .\",\n",
        "    \"My education qualification intermedia pass out 83%.\",\n",
        "    \"I currently pursing dipoma in computer science and engineering  at gorvement girls polytechanic gorkhapur .\",\n",
        "    \"I currently pursing fundamental of data curation using python  , I learn basic python ,data analytics,data processing ,data clearing ,natural languaage processing ,cnn,rnn etc.\",\n",
        "    \"My hobbies listen music ,codeing and new things creating and watching movie .\",\n",
        "    \"I currently living gorkhapur .\",\n",
        "\n",
        "\n",
        "\n",
        "]\n"
      ]
    },
    {
      "cell_type": "code",
      "execution_count": null,
      "metadata": {
        "colab": {
          "base_uri": "https://localhost:8080/",
          "height": 35
        },
        "id": "Z6hojmcrx1Ld",
        "outputId": "6d674689-ab03-44df-aac6-7402c784996b"
      },
      "outputs": [
        {
          "output_type": "execute_result",
          "data": {
            "text/plain": [
              "'MY NAME IS  * VARTIKA  + MISHRA  453 % 54345.'"
            ],
            "application/vnd.google.colaboratory.intrinsic+json": {
              "type": "string"
            }
          },
          "metadata": {},
          "execution_count": 9
        }
      ],
      "source": [
        "s = \"my name is  * Vartika  + mishra  453 % 54345.\"\n",
        "s.upper()"
      ]
    },
    {
      "cell_type": "code",
      "execution_count": null,
      "metadata": {
        "colab": {
          "base_uri": "https://localhost:8080/",
          "height": 35
        },
        "id": "C0UNiSztx1Le",
        "outputId": "c545dc4d-b403-410a-b638-fb4f38c415e4"
      },
      "outputs": [
        {
          "output_type": "execute_result",
          "data": {
            "text/plain": [
              "'my name is  * Vartika  + mishra   % .'"
            ],
            "application/vnd.google.colaboratory.intrinsic+json": {
              "type": "string"
            }
          },
          "metadata": {},
          "execution_count": 10
        }
      ],
      "source": [
        "re.sub(r'\\d+',\"\",s)"
      ]
    },
    {
      "cell_type": "code",
      "execution_count": null,
      "metadata": {
        "colab": {
          "base_uri": "https://localhost:8080/",
          "height": 35
        },
        "id": "vVR3T8-Ux1Lf",
        "outputId": "8f290484-7480-4d34-cdb0-97e594a15b3e"
      },
      "outputs": [
        {
          "output_type": "execute_result",
          "data": {
            "text/plain": [
              "'!\"#$%&\\'()*+,-./:;<=>?@[\\\\]^_`{|}~'"
            ],
            "application/vnd.google.colaboratory.intrinsic+json": {
              "type": "string"
            }
          },
          "metadata": {},
          "execution_count": 11
        }
      ],
      "source": [
        "string.punctuation"
      ]
    },
    {
      "cell_type": "code",
      "execution_count": null,
      "metadata": {
        "id": "tarw9CNdx1Lh"
      },
      "outputs": [],
      "source": [
        "s= s.translate(str.maketrans(\"\",\"\",string.punctuation))"
      ]
    },
    {
      "cell_type": "code",
      "execution_count": null,
      "metadata": {
        "colab": {
          "base_uri": "https://localhost:8080/",
          "height": 35
        },
        "id": "u_jfMzFAx1Lh",
        "outputId": "d9d85257-c607-4c4c-bc22-d3aa2f33f7ed"
      },
      "outputs": [
        {
          "output_type": "execute_result",
          "data": {
            "text/plain": [
              "'my name is   Vartika   mishra  453  54345'"
            ],
            "application/vnd.google.colaboratory.intrinsic+json": {
              "type": "string"
            }
          },
          "metadata": {},
          "execution_count": 13
        }
      ],
      "source": [
        "s"
      ]
    },
    {
      "cell_type": "code",
      "execution_count": null,
      "metadata": {
        "id": "zMhmrCU7x1Li"
      },
      "outputs": [],
      "source": [
        "from nltk.tokenize import word_tokenize"
      ]
    },
    {
      "cell_type": "code",
      "execution_count": null,
      "metadata": {
        "colab": {
          "base_uri": "https://localhost:8080/"
        },
        "id": "92KPgMmcx1Lj",
        "outputId": "0a3e9046-c779-4983-b2c8-0aaf0607841b"
      },
      "outputs": [
        {
          "output_type": "execute_result",
          "data": {
            "text/plain": [
              "['my', 'name', 'is', 'Vartika', 'mishra', '453', '54345']"
            ]
          },
          "metadata": {},
          "execution_count": 15
        }
      ],
      "source": [
        "word_tokenize(s)"
      ]
    },
    {
      "cell_type": "code",
      "execution_count": null,
      "metadata": {
        "id": "1ezXguyKx1Lj"
      },
      "outputs": [],
      "source": [
        "s1 = ['my', 'name', 'is', 'Neeraj', 'kumar', '453', '54345', '.']"
      ]
    },
    {
      "cell_type": "code",
      "execution_count": null,
      "metadata": {
        "colab": {
          "base_uri": "https://localhost:8080/"
        },
        "id": "gTs6BkZyx1Lk",
        "outputId": "d1a845c6-8acd-42cc-a22d-82533c713880"
      },
      "outputs": [
        {
          "output_type": "execute_result",
          "data": {
            "text/plain": [
              "['name', 'Neeraj', 'kumar', '453', '54345', '.']"
            ]
          },
          "metadata": {},
          "execution_count": 17
        }
      ],
      "source": [
        "[i for i in s1 if i not in stopwords.words('english')]"
      ]
    },
    {
      "cell_type": "code",
      "execution_count": null,
      "metadata": {
        "id": "VEPbYKHqx1Ll"
      },
      "outputs": [],
      "source": [
        "\n",
        "\n",
        "def word_prepprocessing(text) :\n",
        "    text = text.lower()\n",
        "    text = re.sub(r'\\d+',\"\",text)\n",
        "    text = text.translate(str.maketrans(\"\",\"\",string.punctuation))\n",
        "    word = word_tokenize(text)\n",
        "    word = [ i for i in word if i not in stopwords.words('english')]\n",
        "    return word"
      ]
    },
    {
      "cell_type": "code",
      "execution_count": null,
      "metadata": {
        "colab": {
          "base_uri": "https://localhost:8080/"
        },
        "id": "EdZdnFAxx1Ll",
        "outputId": "4a1a9b7e-c46e-4145-cf49-f323b9abe9dc"
      },
      "outputs": [
        {
          "output_type": "execute_result",
          "data": {
            "text/plain": [
              "['come', 'maharajaganj', 'district']"
            ]
          },
          "metadata": {},
          "execution_count": 19
        }
      ],
      "source": [
        "\n",
        "\n",
        "word_prepprocessing(\"I come from Maharajaganj district .\")"
      ]
    },
    {
      "cell_type": "code",
      "execution_count": null,
      "metadata": {
        "colab": {
          "base_uri": "https://localhost:8080/"
        },
        "id": "fQinjRYMx1Lm",
        "outputId": "d6354014-453a-4c30-9bd0-774c2e5b39f0"
      },
      "outputs": [
        {
          "output_type": "execute_result",
          "data": {
            "text/plain": [
              "['My name is Vartika Mishra ',\n",
              " \"My father's name is mr.Sushil Mishra \",\n",
              " 'I come from Maharajaganj district .',\n",
              " 'My education qualification intermedia pass out 83%.',\n",
              " 'I currently pursing dipoma in computer science and engineering  at gorvement girls polytechanic gorkhapur .',\n",
              " 'I currently pursing fundamental of data curation using python  , I learn basic python ,data analytics,data processing ,data clearing ,natural languaage processing ,cnn,rnn etc.',\n",
              " 'My hobbies listen music ,codeing and new things creating and watching movie .',\n",
              " 'I currently living gorkhapur .']"
            ]
          },
          "metadata": {},
          "execution_count": 20
        }
      ],
      "source": [
        "\n",
        "\n",
        "\n",
        "\n",
        "corpus"
      ]
    },
    {
      "cell_type": "code",
      "execution_count": null,
      "metadata": {
        "id": "eVkeuJ4rx1Ln"
      },
      "outputs": [],
      "source": [
        "processed_corpus = [word_prepprocessing(sentence) for sentence in corpus]"
      ]
    },
    {
      "cell_type": "code",
      "execution_count": null,
      "metadata": {
        "colab": {
          "base_uri": "https://localhost:8080/"
        },
        "id": "iZ33S59ux1Ln",
        "outputId": "660d5491-d418-47d4-c413-dd3d946c0833"
      },
      "outputs": [
        {
          "output_type": "execute_result",
          "data": {
            "text/plain": [
              "[['name', 'vartika', 'mishra'],\n",
              " ['fathers', 'name', 'mrsushil', 'mishra'],\n",
              " ['come', 'maharajaganj', 'district'],\n",
              " ['education', 'qualification', 'intermedia', 'pass'],\n",
              " ['currently',\n",
              "  'pursing',\n",
              "  'dipoma',\n",
              "  'computer',\n",
              "  'science',\n",
              "  'engineering',\n",
              "  'gorvement',\n",
              "  'girls',\n",
              "  'polytechanic',\n",
              "  'gorkhapur'],\n",
              " ['currently',\n",
              "  'pursing',\n",
              "  'fundamental',\n",
              "  'data',\n",
              "  'curation',\n",
              "  'using',\n",
              "  'python',\n",
              "  'learn',\n",
              "  'basic',\n",
              "  'python',\n",
              "  'data',\n",
              "  'analyticsdata',\n",
              "  'processing',\n",
              "  'data',\n",
              "  'clearing',\n",
              "  'natural',\n",
              "  'languaage',\n",
              "  'processing',\n",
              "  'cnnrnn',\n",
              "  'etc'],\n",
              " ['hobbies',\n",
              "  'listen',\n",
              "  'music',\n",
              "  'codeing',\n",
              "  'new',\n",
              "  'things',\n",
              "  'creating',\n",
              "  'watching',\n",
              "  'movie'],\n",
              " ['currently', 'living', 'gorkhapur']]"
            ]
          },
          "metadata": {},
          "execution_count": 22
        }
      ],
      "source": [
        "\n",
        "processed_corpus"
      ]
    },
    {
      "cell_type": "code",
      "execution_count": null,
      "metadata": {
        "id": "_-TgoKgLx1Lo"
      },
      "outputs": [],
      "source": [
        "word2vec_cbow = Word2Vec(sentences=processed_corpus ,vector_size=100 , window=10,min_count=1,sg=0)\n",
        "word2vec_skipgram = Word2Vec(sentences=processed_corpus ,vector_size=100 , window=10,min_count=1,sg=1)"
      ]
    },
    {
      "cell_type": "code",
      "execution_count": null,
      "metadata": {
        "colab": {
          "base_uri": "https://localhost:8080/"
        },
        "id": "VmQqGRNqx1Lp",
        "outputId": "9b2e9ca2-868c-488b-bdbe-0c6f70e2dadc"
      },
      "outputs": [
        {
          "output_type": "execute_result",
          "data": {
            "text/plain": [
              "<gensim.models.word2vec.Word2Vec at 0x78e4d55ee0f0>"
            ]
          },
          "metadata": {},
          "execution_count": 24
        }
      ],
      "source": [
        "word2vec_cbow"
      ]
    },
    {
      "cell_type": "code",
      "execution_count": null,
      "metadata": {
        "colab": {
          "base_uri": "https://localhost:8080/"
        },
        "id": "xEDVLXcIx1Lp",
        "outputId": "f2f77b42-cb96-4334-ae10-1cb4f2547776"
      },
      "outputs": [
        {
          "output_type": "execute_result",
          "data": {
            "text/plain": [
              "<gensim.models.word2vec.Word2Vec at 0x78e4d9117b90>"
            ]
          },
          "metadata": {},
          "execution_count": 25
        }
      ],
      "source": [
        "word2vec_skipgram"
      ]
    },
    {
      "cell_type": "code",
      "execution_count": null,
      "metadata": {
        "id": "rmJ9FHqVx1Lq"
      },
      "outputs": [],
      "source": []
    },
    {
      "cell_type": "code",
      "execution_count": null,
      "metadata": {
        "colab": {
          "base_uri": "https://localhost:8080/"
        },
        "id": "n5pHagl9x1Lq",
        "outputId": "f6b06965-d28a-4af2-db49-3d3b752a6f82"
      },
      "outputs": [
        {
          "output_type": "execute_result",
          "data": {
            "text/plain": [
              "100"
            ]
          },
          "metadata": {},
          "execution_count": 26
        }
      ],
      "source": [
        "word2vec_skipgram.vector_size"
      ]
    },
    {
      "cell_type": "code",
      "execution_count": null,
      "metadata": {
        "colab": {
          "base_uri": "https://localhost:8080/"
        },
        "id": "a3Z5t1O7x1Lr",
        "outputId": "c7443104-ea0b-4440-df77-8aab8731084e"
      },
      "outputs": [
        {
          "output_type": "execute_result",
          "data": {
            "text/plain": [
              "array([ 0.00480066, -0.00362838, -0.00426481,  0.00121976, -0.0041273 ,\n",
              "       -0.00562717,  0.00314301,  0.00833766, -0.00654566, -0.00911394,\n",
              "       -0.00333177,  0.00752724, -0.00968902,  0.00959828, -0.00041825,\n",
              "        0.0023048 , -0.00184966, -0.00576211,  0.0031007 ,  0.00619509,\n",
              "       -0.00705291, -0.00117332,  0.00155942,  0.00424897,  0.00714135,\n",
              "       -0.0035467 ,  0.00727539, -0.00557097, -0.00219483,  0.00908476,\n",
              "        0.00538232, -0.00848506, -0.00165564, -0.00883822, -0.00164188,\n",
              "        0.00565562, -0.0074183 ,  0.00551007,  0.00609006, -0.00377048,\n",
              "       -0.00965581, -0.00251882, -0.00255302,  0.00375854,  0.00892069,\n",
              "        0.0019959 , -0.00211154,  0.00296957, -0.00680372, -0.00129335,\n",
              "       -0.00148323,  0.00960487, -0.00580956, -0.00704024,  0.00236115,\n",
              "        0.00263477, -0.00714597, -0.00587775, -0.00118302, -0.00330282,\n",
              "       -0.00897573, -0.00404952, -0.00296575,  0.00650267,  0.0009739 ,\n",
              "        0.00159881,  0.00027834, -0.00338414,  0.00310237,  0.00071167,\n",
              "        0.00598284, -0.00077522, -0.00890127,  0.00088276,  0.00992382,\n",
              "       -0.00524917, -0.00521647, -0.00251875,  0.00858345, -0.00083164,\n",
              "        0.00941837, -0.00833611,  0.00901704, -0.00971312,  0.00919956,\n",
              "        0.00187271,  0.00266045, -0.0058586 ,  0.00843919,  0.00604363,\n",
              "       -0.00548714, -0.00949882,  0.0069684 , -0.00553593, -0.00932132,\n",
              "        0.00259736, -0.00497801, -0.00736005,  0.00973056, -0.00158582],\n",
              "      dtype=float32)"
            ]
          },
          "metadata": {},
          "execution_count": 29
        }
      ],
      "source": [
        "word2vec_cbow.wv[\"girls\"]"
      ]
    },
    {
      "cell_type": "code",
      "execution_count": null,
      "metadata": {
        "id": "lAmV8ZTzx1Ls",
        "colab": {
          "base_uri": "https://localhost:8080/"
        },
        "outputId": "6a4a05a4-3619-4399-d9b4-5e2cd3ff231f"
      },
      "outputs": [
        {
          "output_type": "execute_result",
          "data": {
            "text/plain": [
              "-0.11367775"
            ]
          },
          "metadata": {},
          "execution_count": 31
        }
      ],
      "source": [
        "word2vec_cbow.wv.similarity(\"python\",\"data\")"
      ]
    },
    {
      "cell_type": "code",
      "execution_count": null,
      "metadata": {
        "id": "DAymV6vEx1Ls",
        "colab": {
          "base_uri": "https://localhost:8080/"
        },
        "outputId": "c3ef4f63-2090-4d1f-decd-04eb00c73ad9"
      },
      "outputs": [
        {
          "output_type": "execute_result",
          "data": {
            "text/plain": [
              "['currently',\n",
              " 'data',\n",
              " 'processing',\n",
              " 'gorkhapur',\n",
              " 'mishra',\n",
              " 'name',\n",
              " 'python',\n",
              " 'pursing',\n",
              " 'living',\n",
              " 'movie',\n",
              " 'watching',\n",
              " 'creating',\n",
              " 'things',\n",
              " 'new',\n",
              " 'natural',\n",
              " 'languaage',\n",
              " 'cnnrnn',\n",
              " 'etc',\n",
              " 'hobbies',\n",
              " 'listen',\n",
              " 'music',\n",
              " 'codeing',\n",
              " 'curation',\n",
              " 'using',\n",
              " 'fundamental',\n",
              " 'polytechanic',\n",
              " 'basic',\n",
              " 'learn',\n",
              " 'analyticsdata',\n",
              " 'clearing',\n",
              " 'science',\n",
              " 'engineering',\n",
              " 'gorvement',\n",
              " 'girls',\n",
              " 'pass',\n",
              " 'intermedia',\n",
              " 'dipoma',\n",
              " 'computer',\n",
              " 'education',\n",
              " 'qualification',\n",
              " 'district',\n",
              " 'maharajaganj',\n",
              " 'mrsushil',\n",
              " 'come',\n",
              " 'fathers',\n",
              " 'vartika']"
            ]
          },
          "metadata": {},
          "execution_count": 32
        }
      ],
      "source": [
        "\n",
        "\n",
        "word2vec_cbow.wv.index_to_key"
      ]
    },
    {
      "cell_type": "code",
      "execution_count": null,
      "metadata": {
        "id": "Z4AM9A2Kx1Lt",
        "colab": {
          "base_uri": "https://localhost:8080/"
        },
        "outputId": "c4158aa0-ffe3-442c-f52d-22513738e1e0"
      },
      "outputs": [
        {
          "output_type": "execute_result",
          "data": {
            "text/plain": [
              "[('python', 0.3489205241203308),\n",
              " ('fathers', 0.26477304100990295),\n",
              " ('things', 0.24784763157367706),\n",
              " ('pursing', 0.203878715634346),\n",
              " ('mishra', 0.145208477973938)]"
            ]
          },
          "metadata": {},
          "execution_count": 34
        }
      ],
      "source": [
        "\n",
        "word2vec_cbow.wv.most_similar(\"computer\",topn=5)"
      ]
    },
    {
      "cell_type": "code",
      "execution_count": null,
      "metadata": {
        "id": "7sPOyd30x1Lu",
        "colab": {
          "base_uri": "https://localhost:8080/"
        },
        "outputId": "35f301eb-28b2-4abd-9e11-d52ed01d52d3"
      },
      "outputs": [
        {
          "output_type": "execute_result",
          "data": {
            "text/plain": [
              "[('cnnrnn', 0.21891458332538605),\n",
              " ('movie', 0.21634100377559662),\n",
              " ('analyticsdata', 0.19528919458389282),\n",
              " ('come', 0.16920800507068634),\n",
              " ('science', 0.1517469435930252)]"
            ]
          },
          "metadata": {},
          "execution_count": 35
        }
      ],
      "source": [
        "word2vec_skipgram.wv.most_similar(\"currently\",topn=5)"
      ]
    },
    {
      "cell_type": "code",
      "execution_count": null,
      "metadata": {
        "id": "PoySxujvx1Lv",
        "colab": {
          "base_uri": "https://localhost:8080/"
        },
        "outputId": "46a4bfc6-dd45-4877-d131-713a3353764c"
      },
      "outputs": [
        {
          "output_type": "execute_result",
          "data": {
            "text/plain": [
              "['My name is Vartika Mishra ',\n",
              " \"My father's name is mr.Sushil Mishra \",\n",
              " 'I come from Maharajaganj district .',\n",
              " 'My education qualification intermedia pass out 83%.',\n",
              " 'I currently pursing dipoma in computer science and engineering  at gorvement girls polytechanic gorkhapur .',\n",
              " 'I currently pursing fundamental of data curation using python  , I learn basic python ,data analytics,data processing ,data clearing ,natural languaage processing ,cnn,rnn etc.',\n",
              " 'My hobbies listen music ,codeing and new things creating and watching movie .',\n",
              " 'I currently living gorkhapur .']"
            ]
          },
          "metadata": {},
          "execution_count": 36
        }
      ],
      "source": [
        "corpus"
      ]
    },
    {
      "cell_type": "code",
      "execution_count": null,
      "metadata": {
        "id": "J7ppHHYox1Lw"
      },
      "outputs": [],
      "source": [
        "\n",
        "from sklearn.manifold import TSNE\n",
        "import numpy as np\n",
        "import matplotlib.pyplot as plt"
      ]
    },
    {
      "cell_type": "code",
      "execution_count": null,
      "metadata": {
        "id": "admL0pRvx1Lx"
      },
      "outputs": [],
      "source": [
        "\n",
        "word_vectors = word2vec_cbow.wv\n",
        "vocab = list(word_vectors.index_to_key)"
      ]
    },
    {
      "cell_type": "code",
      "execution_count": null,
      "metadata": {
        "id": "v5SCrcSGx1Lx",
        "colab": {
          "base_uri": "https://localhost:8080/"
        },
        "outputId": "b0db3993-126e-4cfa-abc7-86a6201b9121"
      },
      "outputs": [
        {
          "output_type": "execute_result",
          "data": {
            "text/plain": [
              "46"
            ]
          },
          "metadata": {},
          "execution_count": 39
        }
      ],
      "source": [
        "len(vocab)"
      ]
    },
    {
      "cell_type": "code",
      "execution_count": null,
      "metadata": {
        "id": "KxfHSm2ox1Ly"
      },
      "outputs": [],
      "source": [
        "x = np.array([word_vectors[i] for i in vocab])"
      ]
    },
    {
      "cell_type": "code",
      "execution_count": null,
      "metadata": {
        "id": "XIJR1hCNx1Ly"
      },
      "outputs": [],
      "source": [
        "tsne = TSNE(n_components=2)"
      ]
    },
    {
      "cell_type": "code",
      "execution_count": null,
      "metadata": {
        "id": "Yayr7iTmx1Lz"
      },
      "outputs": [],
      "source": [
        "x_new_embedings = tsne.fit_transform(x)"
      ]
    },
    {
      "cell_type": "code",
      "execution_count": null,
      "metadata": {
        "id": "bzzVGnpNx1Lz",
        "colab": {
          "base_uri": "https://localhost:8080/",
          "height": 539
        },
        "outputId": "67d4b1be-a6e9-47ab-f2f8-cfcd48eb27f9"
      },
      "outputs": [
        {
          "output_type": "execute_result",
          "data": {
            "text/plain": [
              "<matplotlib.collections.PathCollection at 0x78e4d67b7620>"
            ]
          },
          "metadata": {},
          "execution_count": 43
        },
        {
          "output_type": "display_data",
          "data": {
            "text/plain": [
              "<Figure size 1200x600 with 1 Axes>"
            ],
            "image/png": "[encoded data removed]"
          },
          "metadata": {}
        }
      ],
      "source": [
        "plt.figure(figsize=(12,6))\n",
        "plt.scatter(x_new_embedings[: , 0] , x_new_embedings[:,1] , marker='o')"
      ]
    },
    {
      "cell_type": "code",
      "execution_count": null,
      "metadata": {
        "id": "9Qc_uFEkx1MG",
        "colab": {
          "base_uri": "https://localhost:8080/"
        },
        "outputId": "3c456ab6-32eb-48e4-9cd7-ad4012e90123"
      },
      "outputs": [
        {
          "output_type": "execute_result",
          "data": {
            "text/plain": [
              "['currently',\n",
              " 'data',\n",
              " 'processing',\n",
              " 'gorkhapur',\n",
              " 'mishra',\n",
              " 'name',\n",
              " 'python',\n",
              " 'pursing',\n",
              " 'living',\n",
              " 'movie',\n",
              " 'watching',\n",
              " 'creating',\n",
              " 'things',\n",
              " 'new',\n",
              " 'natural',\n",
              " 'languaage',\n",
              " 'cnnrnn',\n",
              " 'etc',\n",
              " 'hobbies',\n",
              " 'listen',\n",
              " 'music',\n",
              " 'codeing',\n",
              " 'curation',\n",
              " 'using',\n",
              " 'fundamental',\n",
              " 'polytechanic',\n",
              " 'basic',\n",
              " 'learn',\n",
              " 'analyticsdata',\n",
              " 'clearing',\n",
              " 'science',\n",
              " 'engineering',\n",
              " 'gorvement',\n",
              " 'girls',\n",
              " 'pass',\n",
              " 'intermedia',\n",
              " 'dipoma',\n",
              " 'computer',\n",
              " 'education',\n",
              " 'qualification',\n",
              " 'district',\n",
              " 'maharajaganj',\n",
              " 'mrsushil',\n",
              " 'come',\n",
              " 'fathers',\n",
              " 'vartika']"
            ]
          },
          "metadata": {},
          "execution_count": 44
        }
      ],
      "source": [
        "vocab"
      ]
    },
    {
      "cell_type": "code",
      "execution_count": null,
      "metadata": {
        "id": "EEPKPkSIx1MH",
        "colab": {
          "base_uri": "https://localhost:8080/",
          "height": 522
        },
        "outputId": "9c413663-dd48-492c-da7c-c69c8e574901"
      },
      "outputs": [
        {
          "output_type": "display_data",
          "data": {
            "text/plain": [
              "<Figure size 1200x600 with 1 Axes>"
            ],
            "image/png": "[encoded data removed]"
          },
          "metadata": {}
        }
      ],
      "source": [
        "plt.figure(figsize=(12,6))\n",
        "plt.scatter(x_new_embedings[: , 0] , x_new_embedings[:,1] , marker='o')\n",
        "\n",
        "for i ,words in enumerate(vocab[:len(x_new_embedings)]):\n",
        "    plt.annotate(words,xy=(x_new_embedings[i,0],x_new_embedings[i,1]))\n",
        "plt.show()"
      ]
    },
    {
      "cell_type": "code",
      "execution_count": null,
      "metadata": {
        "id": "cioJS1wxx1MH"
      },
      "outputs": [],
      "source": [
        "text = \"Barack Obama was the 44th President of the United States.\""
      ]
    },
    {
      "cell_type": "code",
      "execution_count": null,
      "metadata": {
        "id": "jRlFaxGex1MI",
        "colab": {
          "base_uri": "https://localhost:8080/"
        },
        "outputId": "f4223da2-c42b-484d-f9e4-fe9b7eeb5ffc"
      },
      "outputs": [
        {
          "output_type": "execute_result",
          "data": {
            "text/plain": [
              "['Barack',\n",
              " 'Obama',\n",
              " 'was',\n",
              " 'the',\n",
              " '44th',\n",
              " 'President',\n",
              " 'of',\n",
              " 'the',\n",
              " 'United',\n",
              " 'States',\n",
              " '.']"
            ]
          },
          "metadata": {},
          "execution_count": 47
        }
      ],
      "source": [
        "word_tokenize(text)"
      ]
    },
    {
      "cell_type": "code",
      "execution_count": null,
      "metadata": {
        "id": "P1hjTFQkx1MJ",
        "colab": {
          "base_uri": "https://localhost:8080/"
        },
        "outputId": "a92f0bc5-bcba-4b24-df33-45c4f454d77c"
      },
      "outputs": [
        {
          "output_type": "stream",
          "name": "stderr",
          "text": [
            "[nltk_data] Downloading package averaged_perceptron_tagger_eng to\n",
            "[nltk_data]     /root/nltk_data...\n",
            "[nltk_data]   Package averaged_perceptron_tagger_eng is already up-to-\n",
            "[nltk_data]       date!\n",
            "[nltk_data] Downloading package maxent_ne_chunker_tab to\n",
            "[nltk_data]     /root/nltk_data...\n",
            "[nltk_data]   Unzipping chunkers/maxent_ne_chunker_tab.zip.\n"
          ]
        },
        {
          "output_type": "execute_result",
          "data": {
            "text/plain": [
              "True"
            ]
          },
          "metadata": {},
          "execution_count": 61
        }
      ],
      "source": [
        "\n",
        "from nltk import ne_chunk,pos_tag,word_tokenize\n",
        "nltk.download('averaged_perceptron_tagger_eng')\n",
        "nltk.download('maxent_ne_chunker_tab')"
      ]
    },
    {
      "cell_type": "code",
      "execution_count": null,
      "metadata": {
        "id": "nq63GdXix1MJ",
        "colab": {
          "base_uri": "https://localhost:8080/",
          "height": 189
        },
        "outputId": "3fa55a5e-9c78-44f6-9a7e-f13d1535f79f"
      },
      "outputs": [
        {
          "output_type": "execute_result",
          "data": {
            "text/plain": [
              "Tree('S', [Tree('PERSON', [('Barack', 'NNP')]), Tree('PERSON', [('Obama', 'NNP')]), ('was', 'VBD'), ('the', 'DT'), ('44th', 'JJ'), ('President', 'NNP'), ('of', 'IN'), ('the', 'DT'), Tree('GPE', [('United', 'NNP'), ('States', 'NNPS')]), ('.', '.')])"
            ],
            "image/svg+xml": "<svg baseProfile=\"full\" height=\"168px\" preserveAspectRatio=\"xMidYMid meet\" style=\"font-family: times, serif; font-weight: normal; font-style: normal; font-size: 16px\" version=\"1.1\" viewBox=\"0,0,568.0,168.0\" width=\"568px\" xmlns=\"http://www.w3.org/2000/svg\" xmlns:ev=\"http://www.w3.org/2001/xml-events\" xmlns:xlink=\"http://www.w3.org/1999/xlink\"><defs /><svg width=\"100%\" x=\"0\" y=\"0px\"><defs /><text text-anchor=\"middle\" x=\"50%\" y=\"16px\">S</text></svg><svg width=\"11.2676%\" x=\"0%\" y=\"48px\"><defs /><svg width=\"100%\" x=\"0\" y=\"0px\"><defs /><text text-anchor=\"middle\" x=\"50%\" y=\"16px\">PERSON</text></svg><svg width=\"100%\" x=\"0%\" y=\"48px\"><defs /><svg width=\"100%\" x=\"0\" y=\"0px\"><defs /><text text-anchor=\"middle\" x=\"50%\" y=\"16px\">Barack</text></svg><svg width=\"100%\" x=\"0%\" y=\"48px\"><defs /><svg width=\"100%\" x=\"0\" y=\"0px\"><defs /><text text-anchor=\"middle\" x=\"50%\" y=\"16px\">NNP</text></svg></svg><line stroke=\"black\" x1=\"50%\" x2=\"50%\" y1=\"20px\" y2=\"48px\" /></svg><line stroke=\"black\" x1=\"50%\" x2=\"50%\" y1=\"20px\" y2=\"48px\" /></svg><line stroke=\"black\" x1=\"50%\" x2=\"5.6338%\" y1=\"20px\" y2=\"48px\" /><svg width=\"11.2676%\" x=\"11.2676%\" y=\"48px\"><defs /><svg width=\"100%\" x=\"0\" y=\"0px\"><defs /><text text-anchor=\"middle\" x=\"50%\" y=\"16px\">PERSON</text></svg><svg width=\"100%\" x=\"0%\" y=\"48px\"><defs /><svg width=\"100%\" x=\"0\" y=\"0px\"><defs /><text text-anchor=\"middle\" x=\"50%\" y=\"16px\">Obama</text></svg><svg width=\"100%\" x=\"0%\" y=\"48px\"><defs /><svg width=\"100%\" x=\"0\" y=\"0px\"><defs /><text text-anchor=\"middle\" x=\"50%\" y=\"16px\">NNP</text></svg></svg><line stroke=\"black\" x1=\"50%\" x2=\"50%\" y1=\"20px\" y2=\"48px\" /></svg><line stroke=\"black\" x1=\"50%\" x2=\"50%\" y1=\"20px\" y2=\"48px\" /></svg><line stroke=\"black\" x1=\"50%\" x2=\"16.9014%\" y1=\"20px\" y2=\"48px\" /><svg width=\"7.04225%\" x=\"22.5352%\" y=\"48px\"><defs /><svg width=\"100%\" x=\"0\" y=\"0px\"><defs /><text text-anchor=\"middle\" x=\"50%\" y=\"16px\">was</text></svg><svg width=\"100%\" x=\"0%\" y=\"48px\"><defs /><svg width=\"100%\" x=\"0\" y=\"0px\"><defs /><text text-anchor=\"middle\" x=\"50%\" y=\"16px\">VBD</text></svg></svg><line stroke=\"black\" x1=\"50%\" x2=\"50%\" y1=\"20px\" y2=\"48px\" /></svg><line stroke=\"black\" x1=\"50%\" x2=\"26.0563%\" y1=\"20px\" y2=\"48px\" /><svg width=\"7.04225%\" x=\"29.5775%\" y=\"48px\"><defs /><svg width=\"100%\" x=\"0\" y=\"0px\"><defs /><text text-anchor=\"middle\" x=\"50%\" y=\"16px\">the</text></svg><svg width=\"100%\" x=\"0%\" y=\"48px\"><defs /><svg width=\"100%\" x=\"0\" y=\"0px\"><defs /><text text-anchor=\"middle\" x=\"50%\" y=\"16px\">DT</text></svg></svg><line stroke=\"black\" x1=\"50%\" x2=\"50%\" y1=\"20px\" y2=\"48px\" /></svg><line stroke=\"black\" x1=\"50%\" x2=\"33.0986%\" y1=\"20px\" y2=\"48px\" /><svg width=\"8.4507%\" x=\"36.6197%\" y=\"48px\"><defs /><svg width=\"100%\" x=\"0\" y=\"0px\"><defs /><text text-anchor=\"middle\" x=\"50%\" y=\"16px\">44th</text></svg><svg width=\"100%\" x=\"0%\" y=\"48px\"><defs /><svg width=\"100%\" x=\"0\" y=\"0px\"><defs /><text text-anchor=\"middle\" x=\"50%\" y=\"16px\">JJ</text></svg></svg><line stroke=\"black\" x1=\"50%\" x2=\"50%\" y1=\"20px\" y2=\"48px\" /></svg><line stroke=\"black\" x1=\"50%\" x2=\"40.8451%\" y1=\"20px\" y2=\"48px\" /><svg width=\"15.493%\" x=\"45.0704%\" y=\"48px\"><defs /><svg width=\"100%\" x=\"0\" y=\"0px\"><defs /><text text-anchor=\"middle\" x=\"50%\" y=\"16px\">President</text></svg><svg width=\"100%\" x=\"0%\" y=\"48px\"><defs /><svg width=\"100%\" x=\"0\" y=\"0px\"><defs /><text text-anchor=\"middle\" x=\"50%\" y=\"16px\">NNP</text></svg></svg><line stroke=\"black\" x1=\"50%\" x2=\"50%\" y1=\"20px\" y2=\"48px\" /></svg><line stroke=\"black\" x1=\"50%\" x2=\"52.8169%\" y1=\"20px\" y2=\"48px\" /><svg width=\"5.6338%\" x=\"60.5634%\" y=\"48px\"><defs /><svg width=\"100%\" x=\"0\" y=\"0px\"><defs /><text text-anchor=\"middle\" x=\"50%\" y=\"16px\">of</text></svg><svg width=\"100%\" x=\"0%\" y=\"48px\"><defs /><svg width=\"100%\" x=\"0\" y=\"0px\"><defs /><text text-anchor=\"middle\" x=\"50%\" y=\"16px\">IN</text></svg></svg><line stroke=\"black\" x1=\"50%\" x2=\"50%\" y1=\"20px\" y2=\"48px\" /></svg><line stroke=\"black\" x1=\"50%\" x2=\"63.3803%\" y1=\"20px\" y2=\"48px\" /><svg width=\"7.04225%\" x=\"66.1972%\" y=\"48px\"><defs /><svg width=\"100%\" x=\"0\" y=\"0px\"><defs /><text text-anchor=\"middle\" x=\"50%\" y=\"16px\">the</text></svg><svg width=\"100%\" x=\"0%\" y=\"48px\"><defs /><svg width=\"100%\" x=\"0\" y=\"0px\"><defs /><text text-anchor=\"middle\" x=\"50%\" y=\"16px\">DT</text></svg></svg><line stroke=\"black\" x1=\"50%\" x2=\"50%\" y1=\"20px\" y2=\"48px\" /></svg><line stroke=\"black\" x1=\"50%\" x2=\"69.7183%\" y1=\"20px\" y2=\"48px\" /><svg width=\"22.5352%\" x=\"73.2394%\" y=\"48px\"><defs /><svg width=\"100%\" x=\"0\" y=\"0px\"><defs /><text text-anchor=\"middle\" x=\"50%\" y=\"16px\">GPE</text></svg><svg width=\"50%\" x=\"0%\" y=\"48px\"><defs /><svg width=\"100%\" x=\"0\" y=\"0px\"><defs /><text text-anchor=\"middle\" x=\"50%\" y=\"16px\">United</text></svg><svg width=\"100%\" x=\"0%\" y=\"48px\"><defs /><svg width=\"100%\" x=\"0\" y=\"0px\"><defs /><text text-anchor=\"middle\" x=\"50%\" y=\"16px\">NNP</text></svg></svg><line stroke=\"black\" x1=\"50%\" x2=\"50%\" y1=\"20px\" y2=\"48px\" /></svg><line stroke=\"black\" x1=\"50%\" x2=\"25%\" y1=\"20px\" y2=\"48px\" /><svg width=\"50%\" x=\"50%\" y=\"48px\"><defs /><svg width=\"100%\" x=\"0\" y=\"0px\"><defs /><text text-anchor=\"middle\" x=\"50%\" y=\"16px\">States</text></svg><svg width=\"100%\" x=\"0%\" y=\"48px\"><defs /><svg width=\"100%\" x=\"0\" y=\"0px\"><defs /><text text-anchor=\"middle\" x=\"50%\" y=\"16px\">NNPS</text></svg></svg><line stroke=\"black\" x1=\"50%\" x2=\"50%\" y1=\"20px\" y2=\"48px\" /></svg><line stroke=\"black\" x1=\"50%\" x2=\"75%\" y1=\"20px\" y2=\"48px\" /></svg><line stroke=\"black\" x1=\"50%\" x2=\"84.507%\" y1=\"20px\" y2=\"48px\" /><svg width=\"4.22535%\" x=\"95.7746%\" y=\"48px\"><defs /><svg width=\"100%\" x=\"0\" y=\"0px\"><defs /><text text-anchor=\"middle\" x=\"50%\" y=\"16px\">.</text></svg><svg width=\"100%\" x=\"0%\" y=\"48px\"><defs /><svg width=\"100%\" x=\"0\" y=\"0px\"><defs /><text text-anchor=\"middle\" x=\"50%\" y=\"16px\">.</text></svg></svg><line stroke=\"black\" x1=\"50%\" x2=\"50%\" y1=\"20px\" y2=\"48px\" /></svg><line stroke=\"black\" x1=\"50%\" x2=\"97.8873%\" y1=\"20px\" y2=\"48px\" /></svg>"
          },
          "metadata": {},
          "execution_count": 62
        }
      ],
      "source": [
        "(ne_chunk(pos_tag(word_tokenize(text))))"
      ]
    },
    {
      "cell_type": "code",
      "execution_count": null,
      "metadata": {
        "id": "SQyvdKGox1MK"
      },
      "outputs": [],
      "source": []
    }
  ],
  "metadata": {
    "kernelspec": {
      "display_name": "Python 3",
      "name": "python3"
    },
    "language_info": {
      "codemirror_mode": {
        "name": "ipython",
        "version": 3
      },
      "file_extension": ".py",
      "mimetype": "text/x-python",
      "name": "python",
      "nbconvert_exporter": "python",
      "pygments_lexer": "ipython3",
      "version": "3.13.5"
    },
    "colab": {
      "provenance": [],
      "gpuType": "T4",
      "include_colab_link": true
    },
    "accelerator": "GPU"
  },
  "nbformat": 4,
  "nbformat_minor": 0
}