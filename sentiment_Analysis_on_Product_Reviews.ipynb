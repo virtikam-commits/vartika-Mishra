{
  "nbformat": 4,
  "nbformat_minor": 0,
  "metadata": {
    "colab": {
      "provenance": [],
      "authorship_tag": "ABX9TyNbfN1a5HSuyOBasrL5HaW8",
      "include_colab_link": true
    },
    "kernelspec": {
      "name": "python3",
      "display_name": "Python 3"
    },
    "language_info": {
      "name": "python"
    }
  },
  "cells": [
    {
      "cell_type": "markdown",
      "metadata": {
        "id": "view-in-github",
        "colab_type": "text"
      },
      "source": [
        "<a href=\"https://colab.research.google.com/github/virtikam-commits/vartika-Mishra/blob/main/sentiment_Analysis_on_Product_Reviews.ipynb\" target=\"_parent\"><img src=\"https://colab.research.google.com/assets/colab-badge.svg\" alt=\"Open In Colab\"/></a>"
      ]
    },
    {
      "cell_type": "code",
      "execution_count": 4,
      "metadata": {
        "id": "pssifpGyi8iF"
      },
      "outputs": [],
      "source": [
        "# Step 1: Hugging Face और Language Detection के लिए ज़रूरी libraries import करना\n",
        "from transformers import AutoTokenizer, AutoModelForSequenceClassification, pipeline\n",
        "from langdetect import detect\n",
        "import re\n",
        "import emoji\n"
      ]
    },
    {
      "cell_type": "code",
      "source": [
        "from google.colab import drive\n",
        "drive.mount('/content/drive')"
      ],
      "metadata": {
        "id": "HHNvyqgTnuE1"
      },
      "execution_count": null,
      "outputs": []
    },
    {
      "cell_type": "code",
      "source": [
        "pip install langdetect\n"
      ],
      "metadata": {
        "colab": {
          "base_uri": "https://localhost:8080/"
        },
        "id": "jSaHDPl6jb5r",
        "outputId": "3fa96fd9-2080-4c65-e245-acd51f4ce706"
      },
      "execution_count": 2,
      "outputs": [
        {
          "output_type": "stream",
          "name": "stdout",
          "text": [
            "Collecting langdetect\n",
            "  Downloading langdetect-1.0.9.tar.gz (981 kB)\n",
            "\u001b[?25l     \u001b[90m━━━━━━━━━━━━━━━━━━━━━━━━━━━━━━━━━━━━━━━━\u001b[0m \u001b[32m0.0/981.5 kB\u001b[0m \u001b[31m?\u001b[0m eta \u001b[36m-:--:--\u001b[0m\r\u001b[2K     \u001b[91m━━━━━━━━━━━━━━━━━━━━\u001b[0m\u001b[90m╺\u001b[0m\u001b[90m━━━━━━━━━━━━━━━━━\u001b[0m \u001b[32m522.2/981.5 kB\u001b[0m \u001b[31m15.6 MB/s\u001b[0m eta \u001b[36m0:00:01\u001b[0m\r\u001b[2K     \u001b[90m━━━━━━━━━━━━━━━━━━━━━━━━━━━━━━━━━━━━━━\u001b[0m \u001b[32m981.5/981.5 kB\u001b[0m \u001b[31m16.5 MB/s\u001b[0m eta \u001b[36m0:00:00\u001b[0m\n",
            "\u001b[?25h  Preparing metadata (setup.py) ... \u001b[?25l\u001b[?25hdone\n",
            "Requirement already satisfied: six in /usr/local/lib/python3.12/dist-packages (from langdetect) (1.17.0)\n",
            "Building wheels for collected packages: langdetect\n",
            "  Building wheel for langdetect (setup.py) ... \u001b[?25l\u001b[?25hdone\n",
            "  Created wheel for langdetect: filename=langdetect-1.0.9-py3-none-any.whl size=993223 sha256=1da0fd6ffd10d9e0199dea10c5ce5196b9acfbdc93893b7b38b6911078960e21\n",
            "  Stored in directory: /root/.cache/pip/wheels/c1/67/88/e844b5b022812e15a52e4eaa38a1e709e99f06f6639d7e3ba7\n",
            "Successfully built langdetect\n",
            "Installing collected packages: langdetect\n",
            "Successfully installed langdetect-1.0.9\n"
          ]
        }
      ]
    },
    {
      "cell_type": "code",
      "source": [
        "pip install emoji"
      ],
      "metadata": {
        "colab": {
          "base_uri": "https://localhost:8080/"
        },
        "id": "9SZPIDPwjrZi",
        "outputId": "4057e494-810e-455f-b493-a24aec879462"
      },
      "execution_count": 3,
      "outputs": [
        {
          "output_type": "stream",
          "name": "stdout",
          "text": [
            "Collecting emoji\n",
            "  Downloading emoji-2.15.0-py3-none-any.whl.metadata (5.7 kB)\n",
            "Downloading emoji-2.15.0-py3-none-any.whl (608 kB)\n",
            "\u001b[2K   \u001b[90m━━━━━━━━━━━━━━━━━━━━━━━━━━━━━━━━━━━━━━━━\u001b[0m \u001b[32m608.4/608.4 kB\u001b[0m \u001b[31m10.2 MB/s\u001b[0m eta \u001b[36m0:00:00\u001b[0m\n",
            "\u001b[?25hInstalling collected packages: emoji\n",
            "Successfully installed emoji-2.15.0\n"
          ]
        }
      ]
    },
    {
      "cell_type": "code",
      "source": [
        "# Step 2: Multilingual Sentiment Analysis के लिए pretrained model का नाम चुनना\n",
        "MODEL_NAME = \"cardiffnlp/twitter-xlm-roberta-base-sentiment\"\n"
      ],
      "metadata": {
        "id": "6vFB2EThjIMW"
      },
      "execution_count": 5,
      "outputs": []
    },
    {
      "cell_type": "code",
      "source": [
        "# Step 3: Text को clean करने के लिए function (unwanted spaces हटाना, emojis handle करना)\n",
        "def clean_text(text):\n",
        "    if not isinstance(text, str):\n",
        "        text = str(text)             # अगर text string नहीं है तो string बना दो\n",
        "    text = text.strip()              # starting/ending spaces हटाना\n",
        "    text = re.sub(r\"\\s+\", \" \", text) # multiple spaces को single space करना\n",
        "    text = emoji.demojize(text)      # emojis को text में बदलना (e.g., 😍 -> :smiling_face_with_heart_eyes:)\n",
        "    return text\n"
      ],
      "metadata": {
        "colab": {
          "base_uri": "https://localhost:8080/",
          "height": 35
        },
        "id": "X13TpKOljIPM",
        "outputId": "4ab6bb07-d1df-42a9-cb75-cc795a9c3838"
      },
      "execution_count": 8,
      "outputs": [
        {
          "output_type": "execute_result",
          "data": {
            "text/plain": [
              "'cardiffnlp/twitter-xlm-roberta-base-sentiment'"
            ],
            "application/vnd.google.colaboratory.intrinsic+json": {
              "type": "string"
            }
          },
          "metadata": {},
          "execution_count": 8
        }
      ]
    },
    {
      "cell_type": "code",
      "source": [
        "# Step 4: Safe language detection function (error आए तो 'unknown' return करे)\n",
        "def detect_lang_safe(text):\n",
        "    try:\n",
        "        lang = detect(text)\n",
        "        return lang\n",
        "    except:\n",
        "        return \"unknown\"\n"
      ],
      "metadata": {
        "id": "gJRoDOjsjIS4"
      },
      "execution_count": 9,
      "outputs": []
    },
    {
      "cell_type": "code",
      "source": [
        "# Step 5: Model और tokenizer load करना\n",
        "print(\"Loading model...\")\n",
        "tokenizer = AutoTokenizer.from_pretrained(MODEL_NAME)\n",
        "model = AutoModelForSequenceClassification.from_pretrained(MODEL_NAME)\n"
      ],
      "metadata": {
        "colab": {
          "base_uri": "https://localhost:8080/"
        },
        "id": "mi8nFggVkMn8",
        "outputId": "4e1229a5-c1a0-48e1-fb9d-9c622ac98091"
      },
      "execution_count": 11,
      "outputs": [
        {
          "output_type": "stream",
          "name": "stdout",
          "text": [
            "Loading model...\n"
          ]
        }
      ]
    },
    {
      "cell_type": "code",
      "source": [
        "# Step 6: Sentiment analysis pipeline बनाना\n",
        "sentiment_pipe = pipeline(\"sentiment-analysis\", model=model, tokenizer=tokenizer, return_all_scores=True)\n"
      ],
      "metadata": {
        "colab": {
          "base_uri": "https://localhost:8080/"
        },
        "id": "mysEyiZPkMka",
        "outputId": "b9356645-bd16-4f43-fa16-66b69350b593"
      },
      "execution_count": 12,
      "outputs": [
        {
          "output_type": "stream",
          "name": "stderr",
          "text": [
            "Device set to use cpu\n",
            "/usr/local/lib/python3.12/dist-packages/transformers/pipelines/text_classification.py:111: UserWarning: `return_all_scores` is now deprecated,  if want a similar functionality use `top_k=None` instead of `return_all_scores=True` or `top_k=1` instead of `return_all_scores=False`.\n",
            "  warnings.warn(\n"
          ]
        }
      ]
    },
    {
      "cell_type": "code",
      "source": [
        "# Step 7: Model के label को readable format में map करना\n",
        "label_map = {\n",
        "    \"LABEL_0\": \"negative\",\n",
        "    \"LABEL_1\": \"neutral\",\n",
        "    \"LABEL_2\": \"positive\"\n",
        "}\n"
      ],
      "metadata": {
        "id": "SIPSKb-wkMhf"
      },
      "execution_count": 13,
      "outputs": []
    },
    {
      "cell_type": "code",
      "source": [
        "# Step 8: Reviews analyze करने का function\n",
        "def analyze_reviews(reviews):\n",
        "    results = []\n",
        "    cleaned = [clean_text(r) for r in reviews]          # हर review clean करना\n",
        "    pipe_out = sentiment_pipe(cleaned, truncation=True) # batch में prediction लेना\n",
        "    for orig, ctext, pout in zip(reviews, cleaned, pipe_out):\n",
        "        best = max(pout, key=lambda x: x['score'])      # सबसे high score वाला sentiment चुनना\n",
        "        label = label_map.get(best['label'], best['label'])\n",
        "        score = float(best['score'])\n",
        "        lang = detect_lang_safe(ctext)\n",
        "        results.append({\n",
        "            \"original\": orig,\n",
        "            \"cleaned\": ctext,\n",
        "            \"lang_detected\": lang,\n",
        "            \"predicted_label\": label,\n",
        "            \"score\": score,\n",
        "            \"all_scores\": { label_map.get(x['label'], x['label']): float(x['score']) for x in pout }\n",
        "        })\n",
        "    return results\n"
      ],
      "metadata": {
        "id": "MGFBsPULkMer"
      },
      "execution_count": 14,
      "outputs": []
    },
    {
      "cell_type": "code",
      "source": [
        "# Step 9: Sample product reviews (Hindi + English + Hinglish)\n",
        "sample_reviews = [\n",
        "    \"This phone is amazing, battery life is excellent!\",\n",
        "    \"फोन की बैटरी बहुत खराब है, पैसो का नुकसान।\",\n",
        "    \"Camera thoda average hai but value for money.\",\n",
        "    \"Not satisfied. The product stopped working in 2 days.\",\n",
        "    \"बहुत बढ़िया! बिल्कुल recommend करूँगा।\",\n",
        "    \"delivery late, but product ok.\",\n",
        "    \"Achha hai 👍\",\n",
        "    \"Product sahi hai, par packaging kharab thi.\",\n",
        "    \"Worst experience ever!!!\",\n",
        "    \"बहुत घटिया quality. बिलकुल नहीं लेना चाहिए।\",\n",
        "    \"I loved it 😍 best purchase\",\n",
        "    \"price zyada hai lekin quality theek hai\",\n",
        "    \"ye product mast he, ekdum badiya\",\n",
        "    \"ye ulaa is the best web browser hai. \",\n",
        "    \"isko zoho company ne banayi hai kam lagta me .\",\n",
        "    \"indai ka first web browser hai .\",\n",
        "    \"ye google chrome se fast hai .\",\n",
        "    \"google chrome ka ab india se bye bye .\"\n",
        "]\n"
      ],
      "metadata": {
        "id": "j3M5o-IrkpMG"
      },
      "execution_count": 17,
      "outputs": []
    },
    {
      "cell_type": "code",
      "source": [
        "# Step 10: Analysis run करना और output print करना\n",
        "analysis = analyze_reviews(sample_reviews)\n",
        "\n",
        "import json\n",
        "print(json.dumps(analysis, ensure_ascii=False, indent=2))\n"
      ],
      "metadata": {
        "colab": {
          "base_uri": "https://localhost:8080/"
        },
        "id": "Z4TPLdCako_f",
        "outputId": "ab43638c-b0fd-453b-8988-ddcf3780e41e"
      },
      "execution_count": 18,
      "outputs": [
        {
          "output_type": "stream",
          "name": "stdout",
          "text": [
            "[\n",
            "  {\n",
            "    \"original\": \"This phone is amazing, battery life is excellent!\",\n",
            "    \"cleaned\": \"This phone is amazing, battery life is excellent!\",\n",
            "    \"lang_detected\": \"en\",\n",
            "    \"predicted_label\": \"positive\",\n",
            "    \"score\": 0.9263970851898193,\n",
            "    \"all_scores\": {\n",
            "      \"negative\": 0.020413395017385483,\n",
            "      \"neutral\": 0.05318951606750488,\n",
            "      \"positive\": 0.9263970851898193\n",
            "    }\n",
            "  },\n",
            "  {\n",
            "    \"original\": \"फोन की बैटरी बहुत खराब है, पैसो का नुकसान।\",\n",
            "    \"cleaned\": \"फोन की बैटरी बहुत खराब है, पैसो का नुकसान।\",\n",
            "    \"lang_detected\": \"hi\",\n",
            "    \"predicted_label\": \"negative\",\n",
            "    \"score\": 0.9195963740348816,\n",
            "    \"all_scores\": {\n",
            "      \"negative\": 0.9195963740348816,\n",
            "      \"neutral\": 0.0632391944527626,\n",
            "      \"positive\": 0.01716446876525879\n",
            "    }\n",
            "  },\n",
            "  {\n",
            "    \"original\": \"Camera thoda average hai but value for money.\",\n",
            "    \"cleaned\": \"Camera thoda average hai but value for money.\",\n",
            "    \"lang_detected\": \"en\",\n",
            "    \"predicted_label\": \"positive\",\n",
            "    \"score\": 0.49968525767326355,\n",
            "    \"all_scores\": {\n",
            "      \"negative\": 0.11520086228847504,\n",
            "      \"neutral\": 0.38511383533477783,\n",
            "      \"positive\": 0.49968525767326355\n",
            "    }\n",
            "  },\n",
            "  {\n",
            "    \"original\": \"Not satisfied. The product stopped working in 2 days.\",\n",
            "    \"cleaned\": \"Not satisfied. The product stopped working in 2 days.\",\n",
            "    \"lang_detected\": \"en\",\n",
            "    \"predicted_label\": \"negative\",\n",
            "    \"score\": 0.8775038719177246,\n",
            "    \"all_scores\": {\n",
            "      \"negative\": 0.8775038719177246,\n",
            "      \"neutral\": 0.10650045424699783,\n",
            "      \"positive\": 0.015995757654309273\n",
            "    }\n",
            "  },\n",
            "  {\n",
            "    \"original\": \"बहुत बढ़िया! बिल्कुल recommend करूँगा।\",\n",
            "    \"cleaned\": \"बहुत बढ़िया! बिल्कुल recommend करूँगा।\",\n",
            "    \"lang_detected\": \"hi\",\n",
            "    \"predicted_label\": \"positive\",\n",
            "    \"score\": 0.8859869837760925,\n",
            "    \"all_scores\": {\n",
            "      \"negative\": 0.03424764797091484,\n",
            "      \"neutral\": 0.0797654241323471,\n",
            "      \"positive\": 0.8859869837760925\n",
            "    }\n",
            "  },\n",
            "  {\n",
            "    \"original\": \"delivery late, but product ok.\",\n",
            "    \"cleaned\": \"delivery late, but product ok.\",\n",
            "    \"lang_detected\": \"en\",\n",
            "    \"predicted_label\": \"positive\",\n",
            "    \"score\": 0.44906365871429443,\n",
            "    \"all_scores\": {\n",
            "      \"negative\": 0.10504130274057388,\n",
            "      \"neutral\": 0.4458949565887451,\n",
            "      \"positive\": 0.44906365871429443\n",
            "    }\n",
            "  },\n",
            "  {\n",
            "    \"original\": \"Achha hai 👍\",\n",
            "    \"cleaned\": \"Achha hai :thumbs_up:\",\n",
            "    \"lang_detected\": \"en\",\n",
            "    \"predicted_label\": \"negative\",\n",
            "    \"score\": 0.7301496267318726,\n",
            "    \"all_scores\": {\n",
            "      \"negative\": 0.7301496267318726,\n",
            "      \"neutral\": 0.20634621381759644,\n",
            "      \"positive\": 0.06350415199995041\n",
            "    }\n",
            "  },\n",
            "  {\n",
            "    \"original\": \"Product sahi hai, par packaging kharab thi.\",\n",
            "    \"cleaned\": \"Product sahi hai, par packaging kharab thi.\",\n",
            "    \"lang_detected\": \"id\",\n",
            "    \"predicted_label\": \"negative\",\n",
            "    \"score\": 0.5037791132926941,\n",
            "    \"all_scores\": {\n",
            "      \"negative\": 0.5037791132926941,\n",
            "      \"neutral\": 0.2985156774520874,\n",
            "      \"positive\": 0.1977052390575409\n",
            "    }\n",
            "  },\n",
            "  {\n",
            "    \"original\": \"Worst experience ever!!!\",\n",
            "    \"cleaned\": \"Worst experience ever!!!\",\n",
            "    \"lang_detected\": \"en\",\n",
            "    \"predicted_label\": \"negative\",\n",
            "    \"score\": 0.8962329626083374,\n",
            "    \"all_scores\": {\n",
            "      \"negative\": 0.8962329626083374,\n",
            "      \"neutral\": 0.04671183228492737,\n",
            "      \"positive\": 0.05705517530441284\n",
            "    }\n",
            "  },\n",
            "  {\n",
            "    \"original\": \"बहुत घटिया quality. बिलकुल नहीं लेना चाहिए।\",\n",
            "    \"cleaned\": \"बहुत घटिया quality. बिलकुल नहीं लेना चाहिए।\",\n",
            "    \"lang_detected\": \"hi\",\n",
            "    \"predicted_label\": \"negative\",\n",
            "    \"score\": 0.8277831673622131,\n",
            "    \"all_scores\": {\n",
            "      \"negative\": 0.8277831673622131,\n",
            "      \"neutral\": 0.10347733646631241,\n",
            "      \"positive\": 0.06873950362205505\n",
            "    }\n",
            "  },\n",
            "  {\n",
            "    \"original\": \"I loved it 😍 best purchase\",\n",
            "    \"cleaned\": \"I loved it :smiling_face_with_heart-eyes: best purchase\",\n",
            "    \"lang_detected\": \"en\",\n",
            "    \"predicted_label\": \"positive\",\n",
            "    \"score\": 0.9000146389007568,\n",
            "    \"all_scores\": {\n",
            "      \"negative\": 0.02219986356794834,\n",
            "      \"neutral\": 0.07778549939393997,\n",
            "      \"positive\": 0.9000146389007568\n",
            "    }\n",
            "  },\n",
            "  {\n",
            "    \"original\": \"price zyada hai lekin quality theek hai\",\n",
            "    \"cleaned\": \"price zyada hai lekin quality theek hai\",\n",
            "    \"lang_detected\": \"en\",\n",
            "    \"predicted_label\": \"positive\",\n",
            "    \"score\": 0.39930427074432373,\n",
            "    \"all_scores\": {\n",
            "      \"negative\": 0.25711914896965027,\n",
            "      \"neutral\": 0.3435766398906708,\n",
            "      \"positive\": 0.39930427074432373\n",
            "    }\n",
            "  },\n",
            "  {\n",
            "    \"original\": \"ye product mast he, ekdum badiya\",\n",
            "    \"cleaned\": \"ye product mast he, ekdum badiya\",\n",
            "    \"lang_detected\": \"en\",\n",
            "    \"predicted_label\": \"positive\",\n",
            "    \"score\": 0.44629836082458496,\n",
            "    \"all_scores\": {\n",
            "      \"negative\": 0.2862597405910492,\n",
            "      \"neutral\": 0.26744186878204346,\n",
            "      \"positive\": 0.44629836082458496\n",
            "    }\n",
            "  },\n",
            "  {\n",
            "    \"original\": \"ye ulaa is the best web browser hai. \",\n",
            "    \"cleaned\": \"ye ulaa is the best web browser hai.\",\n",
            "    \"lang_detected\": \"en\",\n",
            "    \"predicted_label\": \"positive\",\n",
            "    \"score\": 0.6283201575279236,\n",
            "    \"all_scores\": {\n",
            "      \"negative\": 0.152357280254364,\n",
            "      \"neutral\": 0.2193225920200348,\n",
            "      \"positive\": 0.6283201575279236\n",
            "    }\n",
            "  },\n",
            "  {\n",
            "    \"original\": \"isko zoho company se banayi hai kam lagta me .\",\n",
            "    \"cleaned\": \"isko zoho company se banayi hai kam lagta me .\",\n",
            "    \"lang_detected\": \"tl\",\n",
            "    \"predicted_label\": \"negative\",\n",
            "    \"score\": 0.346640020608902,\n",
            "    \"all_scores\": {\n",
            "      \"negative\": 0.346640020608902,\n",
            "      \"neutral\": 0.33804240822792053,\n",
            "      \"positive\": 0.3153176009654999\n",
            "    }\n",
            "  },\n",
            "  {\n",
            "    \"original\": \"indai ka first web browser hai .\",\n",
            "    \"cleaned\": \"indai ka first web browser hai .\",\n",
            "    \"lang_detected\": \"en\",\n",
            "    \"predicted_label\": \"neutral\",\n",
            "    \"score\": 0.42160284519195557,\n",
            "    \"all_scores\": {\n",
            "      \"negative\": 0.24885191023349762,\n",
            "      \"neutral\": 0.42160284519195557,\n",
            "      \"positive\": 0.3295453190803528\n",
            "    }\n",
            "  },\n",
            "  {\n",
            "    \"original\": \"ye google chrome se fast hai .\",\n",
            "    \"cleaned\": \"ye google chrome se fast hai .\",\n",
            "    \"lang_detected\": \"en\",\n",
            "    \"predicted_label\": \"neutral\",\n",
            "    \"score\": 0.41003188490867615,\n",
            "    \"all_scores\": {\n",
            "      \"negative\": 0.23543047904968262,\n",
            "      \"neutral\": 0.41003188490867615,\n",
            "      \"positive\": 0.35453763604164124\n",
            "    }\n",
            "  },\n",
            "  {\n",
            "    \"original\": \"google chrome ka ab indai se bye bye .\",\n",
            "    \"cleaned\": \"google chrome ka ab indai se bye bye .\",\n",
            "    \"lang_detected\": \"en\",\n",
            "    \"predicted_label\": \"negative\",\n",
            "    \"score\": 0.5166200399398804,\n",
            "    \"all_scores\": {\n",
            "      \"negative\": 0.5166200399398804,\n",
            "      \"neutral\": 0.28348806500434875,\n",
            "      \"positive\": 0.19989188015460968\n",
            "    }\n",
            "  }\n",
            "]\n"
          ]
        }
      ]
    }
  ]
}