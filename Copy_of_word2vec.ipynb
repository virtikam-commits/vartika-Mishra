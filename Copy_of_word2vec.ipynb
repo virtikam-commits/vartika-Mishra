{
  "cells": [
    {
      "cell_type": "markdown",
      "metadata": {
        "id": "view-in-github",
        "colab_type": "text"
      },
      "source": [
        "<a href=\"https://colab.research.google.com/github/virtikam-commits/vartika-Mishra/blob/main/Copy_of_word2vec.ipynb\" target=\"_parent\"><img src=\"https://colab.research.google.com/assets/colab-badge.svg\" alt=\"Open In Colab\"/></a>"
      ]
    },
    {
      "cell_type": "code",
      "execution_count": null,
      "metadata": {
        "colab": {
          "base_uri": "https://localhost:8080/"
        },
        "id": "FjFbgM8tx1LK",
        "outputId": "22b423eb-766d-4cb5-f3f8-45b037c2587c"
      },
      "outputs": [
        {
          "output_type": "stream",
          "name": "stdout",
          "text": [
            "Requirement already satisfied: gensim in /usr/local/lib/python3.12/dist-packages (4.3.3)\n",
            "Requirement already satisfied: numpy<2.0,>=1.18.5 in /usr/local/lib/python3.12/dist-packages (from gensim) (1.26.4)\n",
            "Requirement already satisfied: scipy<1.14.0,>=1.7.0 in /usr/local/lib/python3.12/dist-packages (from gensim) (1.13.1)\n",
            "Requirement already satisfied: smart-open>=1.8.1 in /usr/local/lib/python3.12/dist-packages (from gensim) (7.3.1)\n",
            "Requirement already satisfied: wrapt in /usr/local/lib/python3.12/dist-packages (from smart-open>=1.8.1->gensim) (1.17.3)\n"
          ]
        }
      ],
      "source": [
        "pip install gensim"
      ]
    },
    {
      "cell_type": "code",
      "execution_count": null,
      "metadata": {
        "colab": {
          "base_uri": "https://localhost:8080/"
        },
        "id": "CZfNQDtUx1LQ",
        "outputId": "d9c4f8dc-eb88-4f3a-d506-35c98cf2cb6b"
      },
      "outputs": [
        {
          "output_type": "stream",
          "name": "stdout",
          "text": [
            "Requirement already satisfied: nltk in /usr/local/lib/python3.12/dist-packages (3.9.1)\n",
            "Requirement already satisfied: click in /usr/local/lib/python3.12/dist-packages (from nltk) (8.2.1)\n",
            "Requirement already satisfied: joblib in /usr/local/lib/python3.12/dist-packages (from nltk) (1.5.2)\n",
            "Requirement already satisfied: regex>=2021.8.3 in /usr/local/lib/python3.12/dist-packages (from nltk) (2024.11.6)\n",
            "Requirement already satisfied: tqdm in /usr/local/lib/python3.12/dist-packages (from nltk) (4.67.1)\n"
          ]
        }
      ],
      "source": [
        "pip install nltk"
      ]
    },
    {
      "cell_type": "code",
      "execution_count": null,
      "metadata": {
        "colab": {
          "base_uri": "https://localhost:8080/"
        },
        "id": "DtsQYmtox1LU",
        "outputId": "f33f9fe0-cdf2-44ab-c648-4da9363c14cc"
      },
      "outputs": [
        {
          "output_type": "stream",
          "name": "stdout",
          "text": [
            "Requirement already satisfied: pip in /usr/local/lib/python3.12/dist-packages (25.2)\n"
          ]
        }
      ],
      "source": [
        "pip install --upgrade pip"
      ]
    },
    {
      "cell_type": "code",
      "source": [
        "pip install svgling"
      ],
      "metadata": {
        "colab": {
          "base_uri": "https://localhost:8080/"
        },
        "id": "A8etBGu4AmUa",
        "outputId": "44ab9160-7b72-48b2-9c2f-cf6928a09552"
      },
      "execution_count": null,
      "outputs": [
        {
          "output_type": "stream",
          "name": "stdout",
          "text": [
            "Requirement already satisfied: svgling in /usr/local/lib/python3.12/dist-packages (0.5.0)\n",
            "Requirement already satisfied: svgwrite in /usr/local/lib/python3.12/dist-packages (from svgling) (1.4.3)\n"
          ]
        }
      ]
    },
    {
      "cell_type": "code",
      "execution_count": null,
      "metadata": {
        "id": "zPWgOL8ax1LW"
      },
      "outputs": [],
      "source": [
        "import nltk\n",
        "import gensim\n",
        "import string\n",
        "import matplotlib.pyplot as plt\n",
        "from gensim.models import Word2Vec\n",
        "from nltk.tokenize import word_tokenize\n",
        "from nltk.corpus import stopwords\n",
        "import numpy as np\n",
        "import re"
      ]
    },
    {
      "cell_type": "code",
      "execution_count": null,
      "metadata": {
        "colab": {
          "base_uri": "https://localhost:8080/"
        },
        "id": "EQWSCvKax1LY",
        "outputId": "795ccd90-08ac-4939-f26a-c0e5263384c2"
      },
      "outputs": [
        {
          "output_type": "stream",
          "name": "stderr",
          "text": [
            "[nltk_data] Downloading package punkt to /root/nltk_data...\n",
            "[nltk_data]   Package punkt is already up-to-date!\n",
            "[nltk_data] Downloading package punkt_tab to /root/nltk_data...\n",
            "[nltk_data]   Package punkt_tab is already up-to-date!\n",
            "[nltk_data] Downloading package words to /root/nltk_data...\n",
            "[nltk_data]   Package words is already up-to-date!\n"
          ]
        },
        {
          "output_type": "execute_result",
          "data": {
            "text/plain": [
              "True"
            ]
          },
          "metadata": {},
          "execution_count": 280
        }
      ],
      "source": [
        "nltk.download('punkt')\n",
        "nltk.download('punkt_tab')\n",
        "nltk.download('words')"
      ]
    },
    {
      "cell_type": "code",
      "execution_count": null,
      "metadata": {
        "colab": {
          "base_uri": "https://localhost:8080/"
        },
        "id": "oKl_m44hx1La",
        "outputId": "00632acf-7aa1-49d0-ca98-039d92b8fc93"
      },
      "outputs": [
        {
          "output_type": "stream",
          "name": "stderr",
          "text": [
            "[nltk_data] Downloading package stopwords to /root/nltk_data...\n",
            "[nltk_data]   Package stopwords is already up-to-date!\n"
          ]
        },
        {
          "output_type": "execute_result",
          "data": {
            "text/plain": [
              "True"
            ]
          },
          "metadata": {},
          "execution_count": 281
        }
      ],
      "source": [
        "nltk.download(\"stopwords\")"
      ]
    },
    {
      "cell_type": "code",
      "execution_count": null,
      "metadata": {
        "id": "3ULmFapqx1Lb"
      },
      "outputs": [],
      "source": [
        "corpus =  [\n",
        "\n",
        "    \"AI-assisted legal research helps lawyers analyze case laws more efficiently.\",\n",
        "    \"AI is used in astronomy to analyze vast amounts of cosmic data.\",\n",
        "    \"Smart homes use AI for automation and energy efficiency .\",\n",
        "    \"AI is revolutionizing the way people search for information online.\",\n",
        "    \"AI-based handwriting recognition improves digitization and document processing.\",\n",
        "    \"The use of AI in wildlife conservation helps monitor endangered species.\",\n",
        "    \"AI is shaping the future of content creation in journalism and storytelling.\",\n",
        "    \"AI-driven job matching platforms help connect candidates with suitable employers.\",\n",
        "    \"The financial sector uses AI to assess credit risk and detect fraudulent transactions.\",\n",
        "    \"AI in manufacturing enhances efficiency and reduces production errors.\",\n",
        "    \"Wearable technology powered by AI helps monitor personal health metrics.\",\n",
        "    \"The role of AI in sports analytics improves team performance analysis.\",\n",
        "    \"AI is helping researchers discover new materials and chemical compounds.\",\n",
        "    \"AI in law enforcement aids in criminal investigations and predictive policing.\",\n",
        "    \"AI-driven autonomous ships are transforming maritime transportation.\",\n",
        "    \"AI-powered smart grids enhance energy distribution and consumption efficiency.\",\n",
        "\n",
        "]\n"
      ]
    },
    {
      "cell_type": "code",
      "execution_count": null,
      "metadata": {
        "colab": {
          "base_uri": "https://localhost:8080/",
          "height": 35
        },
        "id": "Z6hojmcrx1Ld",
        "outputId": "1a199e75-462a-4666-ccec-594991d44bd9"
      },
      "outputs": [
        {
          "output_type": "execute_result",
          "data": {
            "text/plain": [
              "'MY NAME IS * NEERAJ + KUMAR 453 % 54345.'"
            ],
            "application/vnd.google.colaboratory.intrinsic+json": {
              "type": "string"
            }
          },
          "metadata": {},
          "execution_count": 283
        }
      ],
      "source": [
        "s = \"my name is * Neeraj + kumar 453 % 54345.\"\n",
        "s.upper()"
      ]
    },
    {
      "cell_type": "code",
      "execution_count": null,
      "metadata": {
        "colab": {
          "base_uri": "https://localhost:8080/",
          "height": 35
        },
        "id": "C0UNiSztx1Le",
        "outputId": "830d9825-88c3-4d7d-ed02-c47b5b7609af"
      },
      "outputs": [
        {
          "output_type": "execute_result",
          "data": {
            "text/plain": [
              "'my name is * Neeraj + kumar  % .'"
            ],
            "application/vnd.google.colaboratory.intrinsic+json": {
              "type": "string"
            }
          },
          "metadata": {},
          "execution_count": 284
        }
      ],
      "source": [
        "re.sub(r'\\d+',\"\",s)"
      ]
    },
    {
      "cell_type": "code",
      "execution_count": null,
      "metadata": {
        "colab": {
          "base_uri": "https://localhost:8080/",
          "height": 35
        },
        "id": "vVR3T8-Ux1Lf",
        "outputId": "07ad8b59-aba7-4941-eb3c-19ee66055420"
      },
      "outputs": [
        {
          "output_type": "execute_result",
          "data": {
            "text/plain": [
              "'!\"#$%&\\'()*+,-./:;<=>?@[\\\\]^_`{|}~'"
            ],
            "application/vnd.google.colaboratory.intrinsic+json": {
              "type": "string"
            }
          },
          "metadata": {},
          "execution_count": 285
        }
      ],
      "source": [
        "string.punctuation"
      ]
    },
    {
      "cell_type": "code",
      "execution_count": null,
      "metadata": {
        "id": "tarw9CNdx1Lh"
      },
      "outputs": [],
      "source": [
        "s= s.translate(str.maketrans(\"\",\"\",string.punctuation))"
      ]
    },
    {
      "cell_type": "code",
      "execution_count": null,
      "metadata": {
        "colab": {
          "base_uri": "https://localhost:8080/",
          "height": 35
        },
        "id": "u_jfMzFAx1Lh",
        "outputId": "3cba0ef5-45ff-4ea3-afac-ccc5cd9cee02"
      },
      "outputs": [
        {
          "output_type": "execute_result",
          "data": {
            "text/plain": [
              "'my name is  Neeraj  kumar 453  54345'"
            ],
            "application/vnd.google.colaboratory.intrinsic+json": {
              "type": "string"
            }
          },
          "metadata": {},
          "execution_count": 287
        }
      ],
      "source": [
        "s"
      ]
    },
    {
      "cell_type": "code",
      "execution_count": null,
      "metadata": {
        "id": "zMhmrCU7x1Li"
      },
      "outputs": [],
      "source": [
        "from nltk.tokenize import word_tokenize"
      ]
    },
    {
      "cell_type": "code",
      "execution_count": null,
      "metadata": {
        "colab": {
          "base_uri": "https://localhost:8080/"
        },
        "id": "92KPgMmcx1Lj",
        "outputId": "43191a75-191f-4352-9d3e-de763154d40b"
      },
      "outputs": [
        {
          "output_type": "execute_result",
          "data": {
            "text/plain": [
              "['my', 'name', 'is', 'Neeraj', 'kumar', '453', '54345']"
            ]
          },
          "metadata": {},
          "execution_count": 289
        }
      ],
      "source": [
        "word_tokenize(s)"
      ]
    },
    {
      "cell_type": "code",
      "execution_count": null,
      "metadata": {
        "id": "1ezXguyKx1Lj"
      },
      "outputs": [],
      "source": [
        "s1 = ['my', 'name', 'is', 'Neeraj', 'kumar', '453', '54345', '.']"
      ]
    },
    {
      "cell_type": "code",
      "execution_count": null,
      "metadata": {
        "colab": {
          "base_uri": "https://localhost:8080/"
        },
        "id": "gTs6BkZyx1Lk",
        "outputId": "1bfbb47a-010e-4ea5-92b8-177bd29b30ae"
      },
      "outputs": [
        {
          "output_type": "execute_result",
          "data": {
            "text/plain": [
              "['name', 'Neeraj', 'kumar', '453', '54345', '.']"
            ]
          },
          "metadata": {},
          "execution_count": 291
        }
      ],
      "source": [
        "[i for i in s1 if i not in stopwords.words('english')]"
      ]
    },
    {
      "cell_type": "code",
      "execution_count": null,
      "metadata": {
        "id": "VEPbYKHqx1Ll"
      },
      "outputs": [],
      "source": [
        "def word_prepprocessing(text) :\n",
        "    text = text.lower()\n",
        "    text = re.sub(r'\\d+',\"\",text)\n",
        "    text = text.translate(str.maketrans(\"\",\"\",string.punctuation))\n",
        "    word = word_tokenize(text)\n",
        "    word = [ i for i in word if i not in stopwords.words('english')]\n",
        "    return word"
      ]
    },
    {
      "cell_type": "code",
      "execution_count": null,
      "metadata": {
        "colab": {
          "base_uri": "https://localhost:8080/"
        },
        "id": "EdZdnFAxx1Ll",
        "outputId": "90b95eaa-9085-48b3-8817-559ec4e24c8f"
      },
      "outputs": [
        {
          "output_type": "execute_result",
          "data": {
            "text/plain": [
              "['aiassisted',\n",
              " 'legal',\n",
              " 'research',\n",
              " 'helps',\n",
              " 'lawyers',\n",
              " 'analyze',\n",
              " 'case',\n",
              " 'laws',\n",
              " 'efficiently']"
            ]
          },
          "metadata": {},
          "execution_count": 293
        }
      ],
      "source": [
        "word_prepprocessing(\"AI-assisted legal research helps lawyers analyze case laws more efficiently.\")"
      ]
    },
    {
      "cell_type": "code",
      "execution_count": null,
      "metadata": {
        "colab": {
          "base_uri": "https://localhost:8080/"
        },
        "id": "fQinjRYMx1Lm",
        "outputId": "80748918-074d-4866-cf9e-65903e6737e1"
      },
      "outputs": [
        {
          "output_type": "execute_result",
          "data": {
            "text/plain": [
              "['AI-assisted legal research helps lawyers analyze case laws more efficiently.',\n",
              " 'AI is used in astronomy to analyze vast amounts of cosmic data.',\n",
              " 'Smart homes use AI for automation and energy efficiency .',\n",
              " 'AI is revolutionizing the way people search for information online.',\n",
              " 'AI-based handwriting recognition improves digitization and document processing.',\n",
              " 'The use of AI in wildlife conservation helps monitor endangered species.',\n",
              " 'AI is shaping the future of content creation in journalism and storytelling.',\n",
              " 'AI-driven job matching platforms help connect candidates with suitable employers.',\n",
              " 'The financial sector uses AI to assess credit risk and detect fraudulent transactions.',\n",
              " 'AI in manufacturing enhances efficiency and reduces production errors.',\n",
              " 'Wearable technology powered by AI helps monitor personal health metrics.',\n",
              " 'The role of AI in sports analytics improves team performance analysis.',\n",
              " 'AI is helping researchers discover new materials and chemical compounds.',\n",
              " 'AI in law enforcement aids in criminal investigations and predictive policing.',\n",
              " 'AI-driven autonomous ships are transforming maritime transportation.',\n",
              " 'AI-powered smart grids enhance energy distribution and consumption efficiency.']"
            ]
          },
          "metadata": {},
          "execution_count": 294
        }
      ],
      "source": [
        "\n",
        "corpus"
      ]
    },
    {
      "cell_type": "code",
      "execution_count": null,
      "metadata": {
        "id": "eVkeuJ4rx1Ln"
      },
      "outputs": [],
      "source": [
        "processed_corpus = [word_prepprocessing(sentence) for sentence in corpus]"
      ]
    },
    {
      "cell_type": "code",
      "execution_count": null,
      "metadata": {
        "colab": {
          "base_uri": "https://localhost:8080/"
        },
        "id": "iZ33S59ux1Ln",
        "outputId": "6025bb99-2985-488b-8be1-5fd94409c306"
      },
      "outputs": [
        {
          "output_type": "execute_result",
          "data": {
            "text/plain": [
              "[['aiassisted',\n",
              "  'legal',\n",
              "  'research',\n",
              "  'helps',\n",
              "  'lawyers',\n",
              "  'analyze',\n",
              "  'case',\n",
              "  'laws',\n",
              "  'efficiently'],\n",
              " ['ai', 'used', 'astronomy', 'analyze', 'vast', 'amounts', 'cosmic', 'data'],\n",
              " ['smart', 'homes', 'use', 'ai', 'automation', 'energy', 'efficiency'],\n",
              " ['ai', 'revolutionizing', 'way', 'people', 'search', 'information', 'online'],\n",
              " ['aibased',\n",
              "  'handwriting',\n",
              "  'recognition',\n",
              "  'improves',\n",
              "  'digitization',\n",
              "  'document',\n",
              "  'processing'],\n",
              " ['use',\n",
              "  'ai',\n",
              "  'wildlife',\n",
              "  'conservation',\n",
              "  'helps',\n",
              "  'monitor',\n",
              "  'endangered',\n",
              "  'species'],\n",
              " ['ai',\n",
              "  'shaping',\n",
              "  'future',\n",
              "  'content',\n",
              "  'creation',\n",
              "  'journalism',\n",
              "  'storytelling'],\n",
              " ['aidriven',\n",
              "  'job',\n",
              "  'matching',\n",
              "  'platforms',\n",
              "  'help',\n",
              "  'connect',\n",
              "  'candidates',\n",
              "  'suitable',\n",
              "  'employers'],\n",
              " ['financial',\n",
              "  'sector',\n",
              "  'uses',\n",
              "  'ai',\n",
              "  'assess',\n",
              "  'credit',\n",
              "  'risk',\n",
              "  'detect',\n",
              "  'fraudulent',\n",
              "  'transactions'],\n",
              " ['ai',\n",
              "  'manufacturing',\n",
              "  'enhances',\n",
              "  'efficiency',\n",
              "  'reduces',\n",
              "  'production',\n",
              "  'errors'],\n",
              " ['wearable',\n",
              "  'technology',\n",
              "  'powered',\n",
              "  'ai',\n",
              "  'helps',\n",
              "  'monitor',\n",
              "  'personal',\n",
              "  'health',\n",
              "  'metrics'],\n",
              " ['role',\n",
              "  'ai',\n",
              "  'sports',\n",
              "  'analytics',\n",
              "  'improves',\n",
              "  'team',\n",
              "  'performance',\n",
              "  'analysis'],\n",
              " ['ai',\n",
              "  'helping',\n",
              "  'researchers',\n",
              "  'discover',\n",
              "  'new',\n",
              "  'materials',\n",
              "  'chemical',\n",
              "  'compounds'],\n",
              " ['ai',\n",
              "  'law',\n",
              "  'enforcement',\n",
              "  'aids',\n",
              "  'criminal',\n",
              "  'investigations',\n",
              "  'predictive',\n",
              "  'policing'],\n",
              " ['aidriven',\n",
              "  'autonomous',\n",
              "  'ships',\n",
              "  'transforming',\n",
              "  'maritime',\n",
              "  'transportation'],\n",
              " ['aipowered',\n",
              "  'smart',\n",
              "  'grids',\n",
              "  'enhance',\n",
              "  'energy',\n",
              "  'distribution',\n",
              "  'consumption',\n",
              "  'efficiency']]"
            ]
          },
          "metadata": {},
          "execution_count": 296
        }
      ],
      "source": [
        "processed_corpus"
      ]
    },
    {
      "cell_type": "code",
      "execution_count": null,
      "metadata": {
        "id": "_-TgoKgLx1Lo"
      },
      "outputs": [],
      "source": [
        "word2vec_cbow = Word2Vec(sentences=processed_corpus ,vector_size=100 , window=10,min_count=1,sg=0)\n",
        "word2vec_skipgram = Word2Vec(sentences=processed_corpus ,vector_size=100 , window=10,min_count=1,sg=1)"
      ]
    },
    {
      "cell_type": "code",
      "execution_count": null,
      "metadata": {
        "colab": {
          "base_uri": "https://localhost:8080/"
        },
        "id": "VmQqGRNqx1Lp",
        "outputId": "b1be8b16-afb8-4aa5-8e22-97e9eb14be78"
      },
      "outputs": [
        {
          "output_type": "execute_result",
          "data": {
            "text/plain": [
              "<gensim.models.word2vec.Word2Vec at 0x7d524424fda0>"
            ]
          },
          "metadata": {},
          "execution_count": 298
        }
      ],
      "source": [
        "word2vec_cbow"
      ]
    },
    {
      "cell_type": "code",
      "execution_count": null,
      "metadata": {
        "colab": {
          "base_uri": "https://localhost:8080/"
        },
        "id": "xEDVLXcIx1Lp",
        "outputId": "beef602e-4670-42c0-fd33-fcce865209f6"
      },
      "outputs": [
        {
          "output_type": "execute_result",
          "data": {
            "text/plain": [
              "<gensim.models.word2vec.Word2Vec at 0x7d5245ae3b90>"
            ]
          },
          "metadata": {},
          "execution_count": 299
        }
      ],
      "source": [
        "word2vec_skipgram"
      ]
    },
    {
      "cell_type": "code",
      "execution_count": null,
      "metadata": {
        "id": "rmJ9FHqVx1Lq"
      },
      "outputs": [],
      "source": []
    },
    {
      "cell_type": "code",
      "execution_count": null,
      "metadata": {
        "colab": {
          "base_uri": "https://localhost:8080/"
        },
        "id": "n5pHagl9x1Lq",
        "outputId": "a007e41e-183c-4bf2-bb79-932ae647aacd"
      },
      "outputs": [
        {
          "output_type": "execute_result",
          "data": {
            "text/plain": [
              "100"
            ]
          },
          "metadata": {},
          "execution_count": 300
        }
      ],
      "source": [
        "word2vec_skipgram.vector_size"
      ]
    },
    {
      "cell_type": "code",
      "execution_count": null,
      "metadata": {
        "colab": {
          "base_uri": "https://localhost:8080/"
        },
        "id": "a3Z5t1O7x1Lr",
        "outputId": "0f5f94cc-1e47-4c0d-cc71-6ed8a7a88d23"
      },
      "outputs": [
        {
          "output_type": "execute_result",
          "data": {
            "text/plain": [
              "array([-6.5224119e-03,  8.9199394e-03, -1.5870739e-03, -8.2805743e-03,\n",
              "        8.0120992e-03, -2.9590419e-03, -1.3266486e-03, -6.7452335e-04,\n",
              "        2.8250306e-03, -4.7217896e-03, -2.5856390e-04, -2.8454361e-03,\n",
              "        8.7754391e-03,  6.8772254e-03,  1.0986293e-03, -6.0721869e-03,\n",
              "        3.1351009e-03,  1.1402296e-03, -6.1226632e-03, -5.7558659e-03,\n",
              "       -3.0944108e-03,  2.3838617e-03, -8.1123225e-03, -4.9894364e-03,\n",
              "        8.1011234e-03, -3.6942828e-03,  7.9564974e-03,  5.3434685e-04,\n",
              "       -5.5392152e-03, -4.9589868e-03, -2.1490621e-04,  4.5961412e-03,\n",
              "       -6.0757645e-03, -5.5144816e-03, -6.8142866e-03,  6.7477310e-03,\n",
              "       -2.4093285e-03,  4.0178844e-03, -1.6262511e-03, -7.4179270e-03,\n",
              "       -1.2657228e-03,  4.0418119e-04,  3.5843425e-03, -8.6759906e-03,\n",
              "       -6.8022679e-03, -6.5592858e-03,  2.9969607e-03, -3.7477124e-03,\n",
              "        1.0214312e-03,  4.1572847e-03,  4.5201629e-03,  2.3639950e-03,\n",
              "       -2.8702957e-03,  6.3314295e-04, -5.3964211e-03, -6.3508195e-03,\n",
              "        8.7080607e-03, -4.0509542e-03, -9.3216281e-03,  3.7316743e-03,\n",
              "        8.4563605e-03, -1.9005871e-04,  2.2667935e-03, -3.5436761e-03,\n",
              "       -4.1969959e-03, -8.6156232e-03, -7.8566968e-03, -9.0751220e-03,\n",
              "       -5.9805391e-03,  8.4903874e-03,  9.4362190e-03, -1.6775891e-03,\n",
              "        1.9433412e-05,  7.8527499e-03,  1.2631301e-03, -5.1435651e-03,\n",
              "        2.6270137e-03,  1.8131227e-03, -3.7239310e-03, -4.8904666e-03,\n",
              "        9.6422629e-03,  7.6457625e-03, -8.5713398e-03, -5.5214814e-03,\n",
              "        1.4184003e-03,  9.1252849e-04, -8.3409520e-03,  9.3265399e-03,\n",
              "       -5.3758570e-03,  4.5997091e-03,  9.2327008e-03,  1.0851858e-03,\n",
              "        4.2187995e-03, -2.7123664e-03, -9.6818125e-03,  6.0165330e-04,\n",
              "       -1.0846502e-03, -9.9268369e-03,  7.0060664e-03, -7.3880982e-03],\n",
              "      dtype=float32)"
            ]
          },
          "metadata": {},
          "execution_count": 301
        }
      ],
      "source": [
        "word2vec_cbow.wv['homes']"
      ]
    },
    {
      "cell_type": "code",
      "execution_count": null,
      "metadata": {
        "id": "lAmV8ZTzx1Ls",
        "colab": {
          "base_uri": "https://localhost:8080/"
        },
        "outputId": "eceb0d03-7715-4431-910e-880ccf9b783f"
      },
      "outputs": [
        {
          "output_type": "execute_result",
          "data": {
            "text/plain": [
              "-0.0009017396"
            ]
          },
          "metadata": {},
          "execution_count": 302
        }
      ],
      "source": [
        "word2vec_cbow.wv.similarity(\"homes\",\"ai\")"
      ]
    },
    {
      "cell_type": "code",
      "execution_count": null,
      "metadata": {
        "id": "DAymV6vEx1Ls",
        "colab": {
          "base_uri": "https://localhost:8080/"
        },
        "outputId": "686ede0b-88d5-436b-8405-e722815c6461"
      },
      "outputs": [
        {
          "output_type": "execute_result",
          "data": {
            "text/plain": [
              "['ai',\n",
              " 'helps',\n",
              " 'efficiency',\n",
              " 'use',\n",
              " 'energy',\n",
              " 'monitor',\n",
              " 'aidriven',\n",
              " 'analyze',\n",
              " 'improves',\n",
              " 'smart',\n",
              " 'wildlife',\n",
              " 'processing',\n",
              " 'conservation',\n",
              " 'document',\n",
              " 'digitization',\n",
              " 'endangered',\n",
              " 'species',\n",
              " 'recognition',\n",
              " 'future',\n",
              " 'content',\n",
              " 'creation',\n",
              " 'journalism',\n",
              " 'storytelling',\n",
              " 'job',\n",
              " 'matching',\n",
              " 'platforms',\n",
              " 'help',\n",
              " 'connect',\n",
              " 'shaping',\n",
              " 'legal',\n",
              " 'research',\n",
              " 'lawyers',\n",
              " 'case',\n",
              " 'laws',\n",
              " 'efficiently',\n",
              " 'used',\n",
              " 'astronomy',\n",
              " 'vast',\n",
              " 'amounts',\n",
              " 'information',\n",
              " 'data',\n",
              " 'homes',\n",
              " 'automation',\n",
              " 'revolutionizing',\n",
              " 'way',\n",
              " 'people',\n",
              " 'search',\n",
              " 'aiassisted',\n",
              " 'online',\n",
              " 'aibased',\n",
              " 'handwriting',\n",
              " 'cosmic',\n",
              " 'analysis',\n",
              " 'helping',\n",
              " 'researchers',\n",
              " 'discover',\n",
              " 'new',\n",
              " 'materials',\n",
              " 'chemical',\n",
              " 'compounds',\n",
              " 'law',\n",
              " 'enforcement',\n",
              " 'aids',\n",
              " 'criminal',\n",
              " 'candidates',\n",
              " 'predictive',\n",
              " 'policing',\n",
              " 'autonomous',\n",
              " 'ships',\n",
              " 'transforming',\n",
              " 'maritime',\n",
              " 'transportation',\n",
              " 'aipowered',\n",
              " 'grids',\n",
              " 'enhance',\n",
              " 'distribution',\n",
              " 'consumption',\n",
              " 'investigations',\n",
              " 'suitable',\n",
              " 'employers',\n",
              " 'financial',\n",
              " 'sector',\n",
              " 'uses',\n",
              " 'assess',\n",
              " 'credit',\n",
              " 'risk',\n",
              " 'detect',\n",
              " 'fraudulent',\n",
              " 'transactions',\n",
              " 'manufacturing',\n",
              " 'performance',\n",
              " 'reduces',\n",
              " 'production',\n",
              " 'errors',\n",
              " 'wearable',\n",
              " 'technology',\n",
              " 'powered',\n",
              " 'personal',\n",
              " 'health',\n",
              " 'metrics',\n",
              " 'role',\n",
              " 'sports',\n",
              " 'analytics',\n",
              " 'team',\n",
              " 'enhances']"
            ]
          },
          "metadata": {},
          "execution_count": 303
        }
      ],
      "source": [
        "\n",
        "\n",
        "word2vec_cbow.wv.index_to_key"
      ]
    },
    {
      "cell_type": "code",
      "execution_count": null,
      "metadata": {
        "id": "Z4AM9A2Kx1Lt",
        "colab": {
          "base_uri": "https://localhost:8080/"
        },
        "outputId": "af4f11bf-d127-48ca-d65e-c73a931b76e2"
      },
      "outputs": [
        {
          "output_type": "execute_result",
          "data": {
            "text/plain": [
              "[('credit', 0.26993024349212646),\n",
              " ('document', 0.2531557083129883),\n",
              " ('help', 0.2011045217514038),\n",
              " ('amounts', 0.19584107398986816),\n",
              " ('research', 0.1754082590341568)]"
            ]
          },
          "metadata": {},
          "execution_count": 304
        }
      ],
      "source": [
        "\n",
        "word2vec_cbow.wv.most_similar(\"energy\",topn=5)"
      ]
    },
    {
      "cell_type": "code",
      "execution_count": null,
      "metadata": {
        "id": "7sPOyd30x1Lu",
        "colab": {
          "base_uri": "https://localhost:8080/"
        },
        "outputId": "c8ca3185-3103-4a65-80ba-4badb136bd7c"
      },
      "outputs": [
        {
          "output_type": "execute_result",
          "data": {
            "text/plain": [
              "[('connect', 0.18901968002319336),\n",
              " ('storytelling', 0.18874797224998474),\n",
              " ('cosmic', 0.18377617001533508),\n",
              " ('analytics', 0.18304216861724854),\n",
              " ('powered', 0.17799314856529236)]"
            ]
          },
          "metadata": {},
          "execution_count": 305
        }
      ],
      "source": [
        "word2vec_skipgram.wv.most_similar(\"helps\",topn=5)"
      ]
    },
    {
      "cell_type": "code",
      "execution_count": null,
      "metadata": {
        "id": "PoySxujvx1Lv",
        "colab": {
          "base_uri": "https://localhost:8080/"
        },
        "outputId": "a65854cd-2cc0-4e99-eb00-aca969f17e7b"
      },
      "outputs": [
        {
          "output_type": "execute_result",
          "data": {
            "text/plain": [
              "['AI-assisted legal research helps lawyers analyze case laws more efficiently.',\n",
              " 'AI is used in astronomy to analyze vast amounts of cosmic data.',\n",
              " 'Smart homes use AI for automation and energy efficiency .',\n",
              " 'AI is revolutionizing the way people search for information online.',\n",
              " 'AI-based handwriting recognition improves digitization and document processing.',\n",
              " 'The use of AI in wildlife conservation helps monitor endangered species.',\n",
              " 'AI is shaping the future of content creation in journalism and storytelling.',\n",
              " 'AI-driven job matching platforms help connect candidates with suitable employers.',\n",
              " 'The financial sector uses AI to assess credit risk and detect fraudulent transactions.',\n",
              " 'AI in manufacturing enhances efficiency and reduces production errors.',\n",
              " 'Wearable technology powered by AI helps monitor personal health metrics.',\n",
              " 'The role of AI in sports analytics improves team performance analysis.',\n",
              " 'AI is helping researchers discover new materials and chemical compounds.',\n",
              " 'AI in law enforcement aids in criminal investigations and predictive policing.',\n",
              " 'AI-driven autonomous ships are transforming maritime transportation.',\n",
              " 'AI-powered smart grids enhance energy distribution and consumption efficiency.']"
            ]
          },
          "metadata": {},
          "execution_count": 306
        }
      ],
      "source": [
        "corpus"
      ]
    },
    {
      "cell_type": "code",
      "execution_count": null,
      "metadata": {
        "id": "J7ppHHYox1Lw"
      },
      "outputs": [],
      "source": [
        "\n",
        "from sklearn.manifold import TSNE\n",
        "import numpy as np\n",
        "import matplotlib.pyplot as plt"
      ]
    },
    {
      "cell_type": "code",
      "execution_count": null,
      "metadata": {
        "id": "admL0pRvx1Lx"
      },
      "outputs": [],
      "source": [
        "\n",
        "word_vectors = word2vec_cbow.wv\n",
        "vocab = list(word_vectors.index_to_key)"
      ]
    },
    {
      "cell_type": "code",
      "execution_count": null,
      "metadata": {
        "id": "v5SCrcSGx1Lx",
        "colab": {
          "base_uri": "https://localhost:8080/"
        },
        "outputId": "61f7de62-e01d-4983-8ebf-823d9a59d88a"
      },
      "outputs": [
        {
          "output_type": "execute_result",
          "data": {
            "text/plain": [
              "105"
            ]
          },
          "metadata": {},
          "execution_count": 309
        }
      ],
      "source": [
        "len(vocab)"
      ]
    },
    {
      "cell_type": "code",
      "execution_count": null,
      "metadata": {
        "id": "KxfHSm2ox1Ly"
      },
      "outputs": [],
      "source": [
        "x = np.array([word_vectors[i] for i in vocab])"
      ]
    },
    {
      "cell_type": "code",
      "execution_count": null,
      "metadata": {
        "id": "XIJR1hCNx1Ly"
      },
      "outputs": [],
      "source": [
        "tsne = TSNE(n_components=2)"
      ]
    },
    {
      "cell_type": "code",
      "execution_count": null,
      "metadata": {
        "id": "Yayr7iTmx1Lz"
      },
      "outputs": [],
      "source": [
        "x_new_embedings = tsne.fit_transform(x)"
      ]
    },
    {
      "cell_type": "code",
      "execution_count": null,
      "metadata": {
        "id": "bzzVGnpNx1Lz",
        "colab": {
          "base_uri": "https://localhost:8080/",
          "height": 539
        },
        "outputId": "bca45eba-8eaa-4ee3-dfc4-ec549a206606"
      },
      "outputs": [
        {
          "output_type": "execute_result",
          "data": {
            "text/plain": [
              "<matplotlib.collections.PathCollection at 0x7d52455a4920>"
            ]
          },
          "metadata": {},
          "execution_count": 313
        },
        {
          "output_type": "display_data",
          "data": {
            "text/plain": [
              "<Figure size 1200x600 with 1 Axes>"
            ],
            "image/png": "[encoded data removed]"
          },
          "metadata": {}
        }
      ],
      "source": [
        "plt.figure(figsize=(12,6))\n",
        "plt.scatter(x_new_embedings[: , 0] , x_new_embedings[:,1] , marker='o')"
      ]
    },
    {
      "cell_type": "code",
      "execution_count": null,
      "metadata": {
        "id": "9Qc_uFEkx1MG",
        "colab": {
          "base_uri": "https://localhost:8080/"
        },
        "outputId": "a8ab7b00-618b-43af-a7b4-d9e97284224c"
      },
      "outputs": [
        {
          "output_type": "execute_result",
          "data": {
            "text/plain": [
              "['ai',\n",
              " 'helps',\n",
              " 'efficiency',\n",
              " 'use',\n",
              " 'energy',\n",
              " 'monitor',\n",
              " 'aidriven',\n",
              " 'analyze',\n",
              " 'improves',\n",
              " 'smart',\n",
              " 'wildlife',\n",
              " 'processing',\n",
              " 'conservation',\n",
              " 'document',\n",
              " 'digitization',\n",
              " 'endangered',\n",
              " 'species',\n",
              " 'recognition',\n",
              " 'future',\n",
              " 'content',\n",
              " 'creation',\n",
              " 'journalism',\n",
              " 'storytelling',\n",
              " 'job',\n",
              " 'matching',\n",
              " 'platforms',\n",
              " 'help',\n",
              " 'connect',\n",
              " 'shaping',\n",
              " 'legal',\n",
              " 'research',\n",
              " 'lawyers',\n",
              " 'case',\n",
              " 'laws',\n",
              " 'efficiently',\n",
              " 'used',\n",
              " 'astronomy',\n",
              " 'vast',\n",
              " 'amounts',\n",
              " 'information',\n",
              " 'data',\n",
              " 'homes',\n",
              " 'automation',\n",
              " 'revolutionizing',\n",
              " 'way',\n",
              " 'people',\n",
              " 'search',\n",
              " 'aiassisted',\n",
              " 'online',\n",
              " 'aibased',\n",
              " 'handwriting',\n",
              " 'cosmic',\n",
              " 'analysis',\n",
              " 'helping',\n",
              " 'researchers',\n",
              " 'discover',\n",
              " 'new',\n",
              " 'materials',\n",
              " 'chemical',\n",
              " 'compounds',\n",
              " 'law',\n",
              " 'enforcement',\n",
              " 'aids',\n",
              " 'criminal',\n",
              " 'candidates',\n",
              " 'predictive',\n",
              " 'policing',\n",
              " 'autonomous',\n",
              " 'ships',\n",
              " 'transforming',\n",
              " 'maritime',\n",
              " 'transportation',\n",
              " 'aipowered',\n",
              " 'grids',\n",
              " 'enhance',\n",
              " 'distribution',\n",
              " 'consumption',\n",
              " 'investigations',\n",
              " 'suitable',\n",
              " 'employers',\n",
              " 'financial',\n",
              " 'sector',\n",
              " 'uses',\n",
              " 'assess',\n",
              " 'credit',\n",
              " 'risk',\n",
              " 'detect',\n",
              " 'fraudulent',\n",
              " 'transactions',\n",
              " 'manufacturing',\n",
              " 'performance',\n",
              " 'reduces',\n",
              " 'production',\n",
              " 'errors',\n",
              " 'wearable',\n",
              " 'technology',\n",
              " 'powered',\n",
              " 'personal',\n",
              " 'health',\n",
              " 'metrics',\n",
              " 'role',\n",
              " 'sports',\n",
              " 'analytics',\n",
              " 'team',\n",
              " 'enhances']"
            ]
          },
          "metadata": {},
          "execution_count": 314
        }
      ],
      "source": [
        "vocab"
      ]
    },
    {
      "cell_type": "code",
      "execution_count": null,
      "metadata": {
        "id": "EEPKPkSIx1MH",
        "colab": {
          "base_uri": "https://localhost:8080/",
          "height": 522
        },
        "outputId": "214e38c9-757a-43a7-b1c6-34df06d32093"
      },
      "outputs": [
        {
          "output_type": "display_data",
          "data": {
            "text/plain": [
              "<Figure size 1200x600 with 1 Axes>"
            ],
            "image/png": "[encoded data removed]"
          },
          "metadata": {}
        }
      ],
      "source": [
        "plt.figure(figsize=(12,6))\n",
        "plt.scatter(x_new_embedings[: , 0] , x_new_embedings[:,1] , marker='o')\n",
        "\n",
        "for i ,words in enumerate(vocab[:len(x_new_embedings)]):\n",
        "    plt.annotate(words,xy=(x_new_embedings[i,0],x_new_embedings[i,1]))\n",
        "plt.show()"
      ]
    },
    {
      "cell_type": "code",
      "execution_count": null,
      "metadata": {
        "id": "cioJS1wxx1MH"
      },
      "outputs": [],
      "source": [
        "text = \"Barack Obama was the 44th President of the United States.\""
      ]
    },
    {
      "cell_type": "code",
      "execution_count": null,
      "metadata": {
        "id": "jRlFaxGex1MI",
        "colab": {
          "base_uri": "https://localhost:8080/"
        },
        "outputId": "56b35f3c-e5a4-4177-fe70-b0c7ba0cae3f"
      },
      "outputs": [
        {
          "output_type": "execute_result",
          "data": {
            "text/plain": [
              "['Barack',\n",
              " 'Obama',\n",
              " 'was',\n",
              " 'the',\n",
              " '44th',\n",
              " 'President',\n",
              " 'of',\n",
              " 'the',\n",
              " 'United',\n",
              " 'States',\n",
              " '.']"
            ]
          },
          "metadata": {},
          "execution_count": 317
        }
      ],
      "source": [
        "word_tokenize(text)"
      ]
    },
    {
      "cell_type": "code",
      "execution_count": null,
      "metadata": {
        "id": "P1hjTFQkx1MJ"
      },
      "outputs": [],
      "source": [
        "\n",
        "from nltk import ne_chunk,pos_tag,word_tokenize"
      ]
    },
    {
      "cell_type": "code",
      "execution_count": null,
      "metadata": {
        "id": "nq63GdXix1MJ",
        "colab": {
          "base_uri": "https://localhost:8080/",
          "height": 189
        },
        "outputId": "e71c4d0a-0bdd-4ce5-ec93-d084074fbcc8"
      },
      "outputs": [
        {
          "output_type": "execute_result",
          "data": {
            "text/plain": [
              "Tree('S', [Tree('PERSON', [('Barack', 'NNP')]), Tree('PERSON', [('Obama', 'NNP')]), ('was', 'VBD'), ('the', 'DT'), ('44th', 'JJ'), ('President', 'NNP'), ('of', 'IN'), ('the', 'DT'), Tree('GPE', [('United', 'NNP'), ('States', 'NNPS')]), ('.', '.')])"
            ],
            "image/svg+xml": "<svg baseProfile=\"full\" height=\"168px\" preserveAspectRatio=\"xMidYMid meet\" style=\"font-family: times, serif; font-weight: normal; font-style: normal; font-size: 16px\" version=\"1.1\" viewBox=\"0,0,568.0,168.0\" width=\"568px\" xmlns=\"http://www.w3.org/2000/svg\" xmlns:ev=\"http://www.w3.org/2001/xml-events\" xmlns:xlink=\"http://www.w3.org/1999/xlink\"><defs /><svg width=\"100%\" x=\"0\" y=\"0px\"><defs /><text text-anchor=\"middle\" x=\"50%\" y=\"16px\">S</text></svg><svg width=\"11.2676%\" x=\"0%\" y=\"48px\"><defs /><svg width=\"100%\" x=\"0\" y=\"0px\"><defs /><text text-anchor=\"middle\" x=\"50%\" y=\"16px\">PERSON</text></svg><svg width=\"100%\" x=\"0%\" y=\"48px\"><defs /><svg width=\"100%\" x=\"0\" y=\"0px\"><defs /><text text-anchor=\"middle\" x=\"50%\" y=\"16px\">Barack</text></svg><svg width=\"100%\" x=\"0%\" y=\"48px\"><defs /><svg width=\"100%\" x=\"0\" y=\"0px\"><defs /><text text-anchor=\"middle\" x=\"50%\" y=\"16px\">NNP</text></svg></svg><line stroke=\"black\" x1=\"50%\" x2=\"50%\" y1=\"20px\" y2=\"48px\" /></svg><line stroke=\"black\" x1=\"50%\" x2=\"50%\" y1=\"20px\" y2=\"48px\" /></svg><line stroke=\"black\" x1=\"50%\" x2=\"5.6338%\" y1=\"20px\" y2=\"48px\" /><svg width=\"11.2676%\" x=\"11.2676%\" y=\"48px\"><defs /><svg width=\"100%\" x=\"0\" y=\"0px\"><defs /><text text-anchor=\"middle\" x=\"50%\" y=\"16px\">PERSON</text></svg><svg width=\"100%\" x=\"0%\" y=\"48px\"><defs /><svg width=\"100%\" x=\"0\" y=\"0px\"><defs /><text text-anchor=\"middle\" x=\"50%\" y=\"16px\">Obama</text></svg><svg width=\"100%\" x=\"0%\" y=\"48px\"><defs /><svg width=\"100%\" x=\"0\" y=\"0px\"><defs /><text text-anchor=\"middle\" x=\"50%\" y=\"16px\">NNP</text></svg></svg><line stroke=\"black\" x1=\"50%\" x2=\"50%\" y1=\"20px\" y2=\"48px\" /></svg><line stroke=\"black\" x1=\"50%\" x2=\"50%\" y1=\"20px\" y2=\"48px\" /></svg><line stroke=\"black\" x1=\"50%\" x2=\"16.9014%\" y1=\"20px\" y2=\"48px\" /><svg width=\"7.04225%\" x=\"22.5352%\" y=\"48px\"><defs /><svg width=\"100%\" x=\"0\" y=\"0px\"><defs /><text text-anchor=\"middle\" x=\"50%\" y=\"16px\">was</text></svg><svg width=\"100%\" x=\"0%\" y=\"48px\"><defs /><svg width=\"100%\" x=\"0\" y=\"0px\"><defs /><text text-anchor=\"middle\" x=\"50%\" y=\"16px\">VBD</text></svg></svg><line stroke=\"black\" x1=\"50%\" x2=\"50%\" y1=\"20px\" y2=\"48px\" /></svg><line stroke=\"black\" x1=\"50%\" x2=\"26.0563%\" y1=\"20px\" y2=\"48px\" /><svg width=\"7.04225%\" x=\"29.5775%\" y=\"48px\"><defs /><svg width=\"100%\" x=\"0\" y=\"0px\"><defs /><text text-anchor=\"middle\" x=\"50%\" y=\"16px\">the</text></svg><svg width=\"100%\" x=\"0%\" y=\"48px\"><defs /><svg width=\"100%\" x=\"0\" y=\"0px\"><defs /><text text-anchor=\"middle\" x=\"50%\" y=\"16px\">DT</text></svg></svg><line stroke=\"black\" x1=\"50%\" x2=\"50%\" y1=\"20px\" y2=\"48px\" /></svg><line stroke=\"black\" x1=\"50%\" x2=\"33.0986%\" y1=\"20px\" y2=\"48px\" /><svg width=\"8.4507%\" x=\"36.6197%\" y=\"48px\"><defs /><svg width=\"100%\" x=\"0\" y=\"0px\"><defs /><text text-anchor=\"middle\" x=\"50%\" y=\"16px\">44th</text></svg><svg width=\"100%\" x=\"0%\" y=\"48px\"><defs /><svg width=\"100%\" x=\"0\" y=\"0px\"><defs /><text text-anchor=\"middle\" x=\"50%\" y=\"16px\">JJ</text></svg></svg><line stroke=\"black\" x1=\"50%\" x2=\"50%\" y1=\"20px\" y2=\"48px\" /></svg><line stroke=\"black\" x1=\"50%\" x2=\"40.8451%\" y1=\"20px\" y2=\"48px\" /><svg width=\"15.493%\" x=\"45.0704%\" y=\"48px\"><defs /><svg width=\"100%\" x=\"0\" y=\"0px\"><defs /><text text-anchor=\"middle\" x=\"50%\" y=\"16px\">President</text></svg><svg width=\"100%\" x=\"0%\" y=\"48px\"><defs /><svg width=\"100%\" x=\"0\" y=\"0px\"><defs /><text text-anchor=\"middle\" x=\"50%\" y=\"16px\">NNP</text></svg></svg><line stroke=\"black\" x1=\"50%\" x2=\"50%\" y1=\"20px\" y2=\"48px\" /></svg><line stroke=\"black\" x1=\"50%\" x2=\"52.8169%\" y1=\"20px\" y2=\"48px\" /><svg width=\"5.6338%\" x=\"60.5634%\" y=\"48px\"><defs /><svg width=\"100%\" x=\"0\" y=\"0px\"><defs /><text text-anchor=\"middle\" x=\"50%\" y=\"16px\">of</text></svg><svg width=\"100%\" x=\"0%\" y=\"48px\"><defs /><svg width=\"100%\" x=\"0\" y=\"0px\"><defs /><text text-anchor=\"middle\" x=\"50%\" y=\"16px\">IN</text></svg></svg><line stroke=\"black\" x1=\"50%\" x2=\"50%\" y1=\"20px\" y2=\"48px\" /></svg><line stroke=\"black\" x1=\"50%\" x2=\"63.3803%\" y1=\"20px\" y2=\"48px\" /><svg width=\"7.04225%\" x=\"66.1972%\" y=\"48px\"><defs /><svg width=\"100%\" x=\"0\" y=\"0px\"><defs /><text text-anchor=\"middle\" x=\"50%\" y=\"16px\">the</text></svg><svg width=\"100%\" x=\"0%\" y=\"48px\"><defs /><svg width=\"100%\" x=\"0\" y=\"0px\"><defs /><text text-anchor=\"middle\" x=\"50%\" y=\"16px\">DT</text></svg></svg><line stroke=\"black\" x1=\"50%\" x2=\"50%\" y1=\"20px\" y2=\"48px\" /></svg><line stroke=\"black\" x1=\"50%\" x2=\"69.7183%\" y1=\"20px\" y2=\"48px\" /><svg width=\"22.5352%\" x=\"73.2394%\" y=\"48px\"><defs /><svg width=\"100%\" x=\"0\" y=\"0px\"><defs /><text text-anchor=\"middle\" x=\"50%\" y=\"16px\">GPE</text></svg><svg width=\"50%\" x=\"0%\" y=\"48px\"><defs /><svg width=\"100%\" x=\"0\" y=\"0px\"><defs /><text text-anchor=\"middle\" x=\"50%\" y=\"16px\">United</text></svg><svg width=\"100%\" x=\"0%\" y=\"48px\"><defs /><svg width=\"100%\" x=\"0\" y=\"0px\"><defs /><text text-anchor=\"middle\" x=\"50%\" y=\"16px\">NNP</text></svg></svg><line stroke=\"black\" x1=\"50%\" x2=\"50%\" y1=\"20px\" y2=\"48px\" /></svg><line stroke=\"black\" x1=\"50%\" x2=\"25%\" y1=\"20px\" y2=\"48px\" /><svg width=\"50%\" x=\"50%\" y=\"48px\"><defs /><svg width=\"100%\" x=\"0\" y=\"0px\"><defs /><text text-anchor=\"middle\" x=\"50%\" y=\"16px\">States</text></svg><svg width=\"100%\" x=\"0%\" y=\"48px\"><defs /><svg width=\"100%\" x=\"0\" y=\"0px\"><defs /><text text-anchor=\"middle\" x=\"50%\" y=\"16px\">NNPS</text></svg></svg><line stroke=\"black\" x1=\"50%\" x2=\"50%\" y1=\"20px\" y2=\"48px\" /></svg><line stroke=\"black\" x1=\"50%\" x2=\"75%\" y1=\"20px\" y2=\"48px\" /></svg><line stroke=\"black\" x1=\"50%\" x2=\"84.507%\" y1=\"20px\" y2=\"48px\" /><svg width=\"4.22535%\" x=\"95.7746%\" y=\"48px\"><defs /><svg width=\"100%\" x=\"0\" y=\"0px\"><defs /><text text-anchor=\"middle\" x=\"50%\" y=\"16px\">.</text></svg><svg width=\"100%\" x=\"0%\" y=\"48px\"><defs /><svg width=\"100%\" x=\"0\" y=\"0px\"><defs /><text text-anchor=\"middle\" x=\"50%\" y=\"16px\">.</text></svg></svg><line stroke=\"black\" x1=\"50%\" x2=\"50%\" y1=\"20px\" y2=\"48px\" /></svg><line stroke=\"black\" x1=\"50%\" x2=\"97.8873%\" y1=\"20px\" y2=\"48px\" /></svg>"
          },
          "metadata": {},
          "execution_count": 319
        }
      ],
      "source": [
        "(ne_chunk(pos_tag(word_tokenize(text))))"
      ]
    },
    {
      "cell_type": "code",
      "execution_count": null,
      "metadata": {
        "id": "SQyvdKGox1MK"
      },
      "outputs": [],
      "source": []
    }
  ],
  "metadata": {
    "kernelspec": {
      "display_name": "Python 3",
      "name": "python3"
    },
    "language_info": {
      "codemirror_mode": {
        "name": "ipython",
        "version": 3
      },
      "file_extension": ".py",
      "mimetype": "text/x-python",
      "name": "python",
      "nbconvert_exporter": "python",
      "pygments_lexer": "ipython3",
      "version": "3.13.5"
    },
    "colab": {
      "provenance": [],
      "gpuType": "T4",
      "include_colab_link": true
    },
    "accelerator": "GPU"
  },
  "nbformat": 4,
  "nbformat_minor": 0
}